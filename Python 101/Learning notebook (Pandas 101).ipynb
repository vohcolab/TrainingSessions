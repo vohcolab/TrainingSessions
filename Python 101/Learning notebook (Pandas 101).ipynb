{
 "cells": [
  {
   "cell_type": "markdown",
   "metadata": {},
   "source": [
    "# Python 101: Learning notebook\n",
    "\n",
    "In this notebook we will be covering the following:\n",
    "\n",
    "- What is a programming language\n",
    "- Functions\n",
    "- Data Types\n",
    "- Classes\n",
    "- Libraries\n"
   ]
  },
  {
   "cell_type": "markdown",
   "metadata": {},
   "source": [
    "## What is programming language?"
   ]
  },
  {
   "cell_type": "markdown",
   "metadata": {},
   "source": [
    "Python is one of many programming languages and it is what we call an \"imperative\" language, which means that we need to explictly write a set of rules and/or directions to do a program.\n",
    "\n",
    "There are other programming language types:\n",
    "* Functional languages which are similar to imperative languages but use only functions (A program would be just a set of chained functions that call each other)\n",
    "* Declarative languages, where we just declare what we want, not how we can do it e.g query languages which are used to ask databases for information (like sql)"
   ]
  },
  {
   "cell_type": "markdown",
   "metadata": {},
   "source": [
    "Sum of 2 plus 5 can be translated to Python in different ways: "
   ]
  },
  {
   "cell_type": "code",
   "execution_count": 1,
   "metadata": {},
   "outputs": [
    {
     "output_type": "execute_result",
     "data": {
      "text/plain": [
       "7"
      ]
     },
     "metadata": {},
     "execution_count": 1
    }
   ],
   "source": [
    "2+5"
   ]
  },
  {
   "source": [
    "2. + 5"
   ],
   "cell_type": "code",
   "metadata": {},
   "execution_count": 2,
   "outputs": [
    {
     "output_type": "execute_result",
     "data": {
      "text/plain": [
       "7.0"
      ]
     },
     "metadata": {},
     "execution_count": 2
    }
   ]
  },
  {
   "source": [
    "Data types are a fundamental concept of programming, everything has a type, and as someone writting code we should be mindfull and aware of that. Thankfully, (sometimes not) Python guesses the type of the data so that we need to bother about that."
   ],
   "cell_type": "markdown",
   "metadata": {}
  },
  {
   "cell_type": "markdown",
   "metadata": {},
   "source": [
    "### Variables\n",
    "\n",
    "Variables hold the state of whatever we assign to them so that we can later use them.\n"
   ]
  },
  {
   "cell_type": "markdown",
   "metadata": {},
   "source": []
  },
  {
   "source": [
    "sm = 2 + 5"
   ],
   "cell_type": "code",
   "metadata": {},
   "execution_count": 3,
   "outputs": []
  },
  {
   "cell_type": "code",
   "execution_count": 4,
   "metadata": {},
   "outputs": [
    {
     "output_type": "execute_result",
     "data": {
      "text/plain": [
       "7"
      ]
     },
     "metadata": {},
     "execution_count": 4
    }
   ],
   "source": [
    "sm"
   ]
  },
  {
   "cell_type": "code",
   "execution_count": 6,
   "metadata": {},
   "outputs": [
    {
     "output_type": "stream",
     "name": "stdout",
     "text": [
      "7\n"
     ]
    }
   ],
   "source": [
    "print(sm)"
   ]
  },
  {
   "source": [
    "## Functions"
   ],
   "cell_type": "markdown",
   "metadata": {}
  },
  {
   "source": [
    "Like in math a function is just something that can receive something and can return something.\n",
    "\n",
    "In python a function is defined by the keyword `def` followed by its name. def function(parameters), and to call it we just need to write function(parameters)."
   ],
   "cell_type": "markdown",
   "metadata": {}
  },
  {
   "cell_type": "code",
   "execution_count": 1,
   "metadata": {},
   "outputs": [],
   "source": [
    "def function(parameter):\n",
    "    return parameter"
   ]
  },
  {
   "cell_type": "code",
   "execution_count": 5,
   "metadata": {},
   "outputs": [
    {
     "output_type": "execute_result",
     "data": {
      "text/plain": [
       "7"
      ]
     },
     "metadata": {},
     "execution_count": 5
    }
   ],
   "source": [
    "function(sm)"
   ]
  },
  {
   "source": [
    "Why functions ? \n",
    "Organize and re-use code. \n",
    "\n",
    "Take the following example: "
   ],
   "cell_type": "markdown",
   "metadata": {}
  },
  {
   "cell_type": "code",
   "execution_count": 8,
   "metadata": {},
   "outputs": [
    {
     "output_type": "stream",
     "name": "stdout",
     "text": [
      "My name is Jonh\nMy name is Mary\nMy name is I do not have a name\n"
     ]
    }
   ],
   "source": [
    "print(\"My name is Jonh\")\n",
    "print(\"My name is Mary\")\n",
    "print(\"My name is I do not have a name\")"
   ]
  },
  {
   "source": [
    "If we have to do a program that just prints out \"My name is...\" this is not the best way, we are just repeating a lot of things! "
   ],
   "cell_type": "markdown",
   "metadata": {}
  },
  {
   "source": [
    "Remember that functions are used to organize and re-use code. Lets create a function that prints out \"My name is {}\".\n",
    "\n",
    "*Hint* print is also a function that receives a arbitrary size of arguments/parameters e.g print(parameterA,parameterB,...) "
   ],
   "cell_type": "markdown",
   "metadata": {}
  },
  {
   "source": [],
   "cell_type": "markdown",
   "metadata": {}
  },
  {
   "cell_type": "code",
   "execution_count": null,
   "metadata": {},
   "outputs": [],
   "source": []
  },
  {
   "source": [
    "### Fibonnaci\n",
    "\n",
    "Fibonnaci is a sequence of numbers where the number n of the sequence is given by Fn = Fn-1 + Fn-2\n",
    "\n",
    "e.g 0 1 1 2 3 5 8 13 ...so on\n",
    "\n",
    "1. How can we do this ?\n",
    "2. How can we do this in Python ?\n"
   ],
   "cell_type": "markdown",
   "metadata": {}
  },
  {
   "cell_type": "markdown",
   "metadata": {},
   "source": [
    "### PseudoCode"
   ]
  },
  {
   "cell_type": "code",
   "execution_count": 28,
   "metadata": {},
   "outputs": [],
   "source": []
  },
  {
   "source": [
    "### Code"
   ],
   "cell_type": "markdown",
   "metadata": {}
  },
  {
   "source": [
    "To help us do this, we need the if else block. Which reads if something is true do a else do b."
   ],
   "cell_type": "markdown",
   "metadata": {}
  },
  {
   "cell_type": "code",
   "execution_count": 26,
   "metadata": {},
   "outputs": [
    {
     "output_type": "stream",
     "name": "stdout",
     "text": [
      "IT IS TRUE\n"
     ]
    }
   ],
   "source": [
    "if True:\n",
    "    print(\"IT IS TRUE\")\n",
    "else:\n",
    "    print(\"YOU LIE\")"
   ]
  },
  {
   "source": [
    "To implement fibonnaci in the traditional recursive (just means that a function calls itself) manner, we need the notion of function.\n"
   ],
   "cell_type": "markdown",
   "metadata": {}
  },
  {
   "source": [
    "def fibonnaci(x):\n",
    "    if x == 0:\n",
    "         return 0\n",
    "    elif x < 2:\n",
    "        return 1\n",
    "    else:\n",
    "        return fibonnaci(x-1)+ fibonnaci(x-2)"
   ],
   "cell_type": "code",
   "metadata": {},
   "execution_count": 20,
   "outputs": []
  },
  {
   "cell_type": "code",
   "execution_count": 29,
   "metadata": {},
   "outputs": [
    {
     "output_type": "execute_result",
     "data": {
      "text/plain": [
       "3"
      ]
     },
     "metadata": {},
     "execution_count": 29
    }
   ],
   "source": [
    "fibonnaci(4)"
   ]
  },
  {
   "cell_type": "code",
   "execution_count": 27,
   "metadata": {},
   "outputs": [],
   "source": [
    "def fibonnaci(n):\n",
    "    a, b = 0, 1\n",
    "    for i in range(0, n):\n",
    "        a, b = b, a + b\n",
    "    return a"
   ]
  },
  {
   "cell_type": "code",
   "execution_count": 30,
   "metadata": {},
   "outputs": [
    {
     "output_type": "execute_result",
     "data": {
      "text/plain": [
       "3"
      ]
     },
     "metadata": {},
     "execution_count": 30
    }
   ],
   "source": [
    "fibonnaci(4)\n",
    "#a,b = 0,1\n",
    "#a,b = 1,1\n",
    "#a,b = 1,2\n",
    "#a,b = 2,3\n",
    "#a,b = 3,5\n",
    "#returns 3"
   ]
  },
  {
   "cell_type": "markdown",
   "metadata": {},
   "source": [
    "Oh no, a wild `for .. in..` appears.\n",
    "\n",
    "A `for ... in ...` is one of two loop blocks in Python. It reads \"for each something in list do action\""
   ]
  },
  {
   "source": [
    "### Remember the \"My name is..\" example!\n",
    "Now that we know what a for loop is we can improve things a bit."
   ],
   "cell_type": "markdown",
   "metadata": {}
  },
  {
   "cell_type": "code",
   "execution_count": null,
   "metadata": {},
   "outputs": [],
   "source": [
    "names = [\"Mary\",\"Jonh\",\"Unknown\",\"Someone else\"]"
   ]
  },
  {
   "source": [
    "New stuff:\n",
    "* [] represents a list of anything \n",
    "* () represents a tuple of anything (Which is immutable- you can not change it after you create you)\n",
    "\n",
    "In reality its almost the same thing but conceptually it has different meanings. \n",
    "\n",
    "The items within both of these structures can be accessed through indexing e.g `names[0]` returns \"Mary\"\n"
   ],
   "cell_type": "markdown",
   "metadata": {}
  },
  {
   "source": [
    "Iterate that name list (for each name use the previously defined function)"
   ],
   "cell_type": "markdown",
   "metadata": {}
  },
  {
   "cell_type": "code",
   "execution_count": null,
   "metadata": {},
   "outputs": [],
   "source": []
  },
  {
   "source": [
    "## Shopping List\n",
    "\n",
    "Let's say we have a shopping list that is composed of a certain number of items and their price, and we want to calculate the total sum."
   ],
   "cell_type": "markdown",
   "metadata": {}
  },
  {
   "cell_type": "code",
   "execution_count": 31,
   "metadata": {},
   "outputs": [],
   "source": [
    "shopping_list = [(\"Revista\",4.3),(\"Carro\",10000),(\"Casa\",85000),(\"Monitor\",120)] #A bit of a weird list no ?"
   ]
  },
  {
   "source": [
    "Lets create a function that calculates the total sum of any list with this format"
   ],
   "cell_type": "markdown",
   "metadata": {}
  },
  {
   "cell_type": "code",
   "execution_count": null,
   "metadata": {},
   "outputs": [],
   "source": []
  }
 ],
 "metadata": {
  "kernelspec": {
   "display_name": "Python 3",
   "language": "python",
   "name": "python3"
  },
  "language_info": {
   "codemirror_mode": {
    "name": "ipython",
    "version": 3
   },
   "file_extension": ".py",
   "mimetype": "text/x-python",
   "name": "python",
   "nbconvert_exporter": "python",
   "pygments_lexer": "ipython3",
   "version": "3.7.3-final"
  }
 },
 "nbformat": 4,
 "nbformat_minor": 4
}