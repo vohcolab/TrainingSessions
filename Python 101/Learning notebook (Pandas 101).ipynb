{
 "cells": [
  {
   "cell_type": "markdown",
   "metadata": {},
   "source": [
    "# Python 101: Learning notebook\n",
    "\n",
    "In this notebook we will be covering the following:\n",
    "\n",
    "- What is a programming language\n",
    "- Functions\n",
    "- Data Types\n",
    "- Classes\n",
    "- Libraries\n"
   ]
  },
  {
   "cell_type": "markdown",
   "metadata": {},
   "source": [
    "## What is programming language?"
   ]
  },
  {
   "cell_type": "markdown",
   "metadata": {},
   "source": [
    "Python is one of many programming languages and it is what we call an \"imperative\" language, which means that we need to explictly write a set of rules and/or directions to do a program.\n",
    "\n",
    "There are other programming language types:\n",
    "* Functional languages which are similar to imperative languages but use only functions (A program would be just a set of chained functions that call each other)\n",
    "* Declarative languages, where we just declare what we want, not how we can do it e.g query languages which are used to ask databases for information (like sql)"
   ]
  },
  {
   "cell_type": "markdown",
   "metadata": {},
   "source": [
    "Sum of 2 plus 5 can be translated to Python in different ways: "
   ]
  },
  {
   "cell_type": "code",
   "execution_count": 1,
   "metadata": {},
   "outputs": [
    {
     "data": {
      "text/plain": [
       "7"
      ]
     },
     "execution_count": 1,
     "metadata": {},
     "output_type": "execute_result"
    }
   ],
   "source": [
    "2+5"
   ]
  },
  {
   "cell_type": "markdown",
   "metadata": {},
   "source": [
    "![alt text](https://media.tenor.com/images/355768ac7cb43a305e2d5876896e1a03/tenor.gif)"
   ]
  },
  {
   "cell_type": "code",
   "execution_count": null,
   "metadata": {},
   "outputs": [],
   "source": []
  },
  {
   "cell_type": "code",
   "execution_count": 2,
   "metadata": {},
   "outputs": [
    {
     "data": {
      "text/plain": [
       "7.0"
      ]
     },
     "execution_count": 2,
     "metadata": {},
     "output_type": "execute_result"
    }
   ],
   "source": [
    "2. + 5"
   ]
  },
  {
   "cell_type": "markdown",
   "metadata": {},
   "source": [
    "Data types are a fundamental concept of programming, everything has a type, and as someone writting code we should be mindfull and aware of that. Thankfully, (sometimes not) Python guesses the type of the data so that we need to bother much about that.\n",
    "Some of the Python data types are:\n",
    "* int\n",
    "* float\n",
    "* dict\n",
    "* list, tuple\n",
    "* bool\n",
    "\n",
    "use `type(x)` to get the type of x\n"
   ]
  },
  {
   "cell_type": "markdown",
   "metadata": {},
   "source": [
    "### Variables\n",
    "\n",
    "Variables hold the state of whatever we assign to them so that we can later use them.\n"
   ]
  },
  {
   "cell_type": "markdown",
   "metadata": {},
   "source": []
  },
  {
   "cell_type": "code",
   "execution_count": 3,
   "metadata": {},
   "outputs": [],
   "source": [
    "sm = 2 + 5"
   ]
  },
  {
   "cell_type": "code",
   "execution_count": 4,
   "metadata": {},
   "outputs": [
    {
     "data": {
      "text/plain": [
       "7"
      ]
     },
     "execution_count": 4,
     "metadata": {},
     "output_type": "execute_result"
    }
   ],
   "source": [
    "sm"
   ]
  },
  {
   "cell_type": "code",
   "execution_count": 5,
   "metadata": {},
   "outputs": [
    {
     "name": "stdout",
     "output_type": "stream",
     "text": [
      "7\n"
     ]
    }
   ],
   "source": [
    "print(sm)"
   ]
  },
  {
   "cell_type": "markdown",
   "metadata": {},
   "source": [
    "## Functions"
   ]
  },
  {
   "cell_type": "markdown",
   "metadata": {},
   "source": [
    "Like in math a function is just something that can receive something and can return something.\n",
    "\n",
    "In python a function is defined by the keyword `def` followed by its name. def function(parameters), and to call it we just need to write function(parameters)."
   ]
  },
  {
   "cell_type": "code",
   "execution_count": 6,
   "metadata": {},
   "outputs": [],
   "source": [
    "def function(parameter):\n",
    "    return parameter"
   ]
  },
  {
   "cell_type": "code",
   "execution_count": 7,
   "metadata": {},
   "outputs": [
    {
     "data": {
      "text/plain": [
       "7"
      ]
     },
     "execution_count": 7,
     "metadata": {},
     "output_type": "execute_result"
    }
   ],
   "source": [
    "function(sm)"
   ]
  },
  {
   "cell_type": "markdown",
   "metadata": {},
   "source": [
    "Why functions ? \n",
    "Organize and re-use code. \n",
    "\n",
    "Take the following example: "
   ]
  },
  {
   "cell_type": "code",
   "execution_count": 8,
   "metadata": {},
   "outputs": [
    {
     "name": "stdout",
     "output_type": "stream",
     "text": [
      "My name is Jonh\n",
      "My name is Mary\n",
      "My name is I do not have a name\n"
     ]
    }
   ],
   "source": [
    "print(\"My name is Jonh\")\n",
    "print(\"My name is Mary\")\n",
    "print(\"My name is I do not have a name\")"
   ]
  },
  {
   "cell_type": "markdown",
   "metadata": {},
   "source": [
    "If we have to do a program that just prints out \"My name is...\" this is not the best way, we are just repeating a lot of things! "
   ]
  },
  {
   "cell_type": "markdown",
   "metadata": {},
   "source": [
    "Remember that functions are used to organize and re-use code. Lets create a function that prints out \"My name is {}\".\n",
    "\n",
    "*Hint* print is also a function that receives a arbitrary size of arguments/parameters e.g print(parameterA,parameterB,...) "
   ]
  },
  {
   "cell_type": "markdown",
   "metadata": {},
   "source": []
  },
  {
   "cell_type": "code",
   "execution_count": null,
   "metadata": {},
   "outputs": [],
   "source": []
  },
  {
   "cell_type": "markdown",
   "metadata": {},
   "source": [
    "### Fibonnaci\n",
    "\n",
    "Fibonnaci is a sequence of numbers where the number n of the sequence is given by Fn = Fn-1 + Fn-2\n",
    "\n",
    "e.g 0 1 1 2 3 5 8 13 ...so on\n",
    "\n",
    "1. How can we do this ?\n",
    "2. How can we do this in Python ?\n"
   ]
  },
  {
   "cell_type": "markdown",
   "metadata": {},
   "source": [
    "### PseudoCode"
   ]
  },
  {
   "cell_type": "code",
   "execution_count": null,
   "metadata": {},
   "outputs": [],
   "source": []
  },
  {
   "cell_type": "markdown",
   "metadata": {},
   "source": [
    "### Code"
   ]
  },
  {
   "cell_type": "markdown",
   "metadata": {},
   "source": [
    "To help us do this, we need the if else block. Which reads if something is true do a else do b."
   ]
  },
  {
   "cell_type": "code",
   "execution_count": 9,
   "metadata": {},
   "outputs": [
    {
     "name": "stdout",
     "output_type": "stream",
     "text": [
      "IT IS TRUE\n"
     ]
    }
   ],
   "source": [
    "if True:\n",
    "    print(\"IT IS TRUE\")\n",
    "else:\n",
    "    print(\"YOU LIE\")"
   ]
  },
  {
   "cell_type": "markdown",
   "metadata": {},
   "source": [
    "Another example"
   ]
  },
  {
   "cell_type": "code",
   "execution_count": 10,
   "metadata": {},
   "outputs": [],
   "source": [
    "a = 3"
   ]
  },
  {
   "cell_type": "code",
   "execution_count": 11,
   "metadata": {},
   "outputs": [
    {
     "name": "stdout",
     "output_type": "stream",
     "text": [
      "IT IS TRUE\n"
     ]
    }
   ],
   "source": [
    "if a == 3:\n",
    "    print(\"IT IS TRUE\")\n",
    "else:\n",
    "    print(\"YOU LIE\")"
   ]
  },
  {
   "cell_type": "markdown",
   "metadata": {},
   "source": [
    "To implement fibonnaci in the traditional recursive (just means that a function calls itself) manner, we need the notion of function.\n"
   ]
  },
  {
   "cell_type": "code",
   "execution_count": 12,
   "metadata": {},
   "outputs": [],
   "source": [
    "def fibonnaci(x):\n",
    "    if x == 0:\n",
    "         return 0\n",
    "    elif x < 2:\n",
    "        return 1\n",
    "    else:\n",
    "        return fibonnaci(x-1)+ fibonnaci(x-2)"
   ]
  },
  {
   "cell_type": "code",
   "execution_count": 13,
   "metadata": {},
   "outputs": [
    {
     "data": {
      "text/plain": [
       "5"
      ]
     },
     "execution_count": 13,
     "metadata": {},
     "output_type": "execute_result"
    }
   ],
   "source": [
    "fibonnaci(5)"
   ]
  },
  {
   "cell_type": "code",
   "execution_count": 14,
   "metadata": {},
   "outputs": [],
   "source": [
    "def fibonnaci(n):\n",
    "    a = 0\n",
    "    b = 1\n",
    "    for i in range(1, n):\n",
    "        b_copy = b\n",
    "        b = a + b\n",
    "        a = b_copy\n",
    "    return a"
   ]
  },
  {
   "cell_type": "markdown",
   "metadata": {},
   "source": [
    "another version of the same solution"
   ]
  },
  {
   "cell_type": "code",
   "execution_count": 15,
   "metadata": {},
   "outputs": [],
   "source": [
    "def fibonnaci(n):\n",
    "    a = 0\n",
    "    b = 1\n",
    "    for i in range(1, n):\n",
    "        a, b = b, a + b\n",
    "    return a"
   ]
  },
  {
   "cell_type": "code",
   "execution_count": 16,
   "metadata": {},
   "outputs": [
    {
     "data": {
      "text/plain": [
       "3"
      ]
     },
     "execution_count": 16,
     "metadata": {},
     "output_type": "execute_result"
    }
   ],
   "source": [
    "fibonnaci(5)\n",
    "#a,b = 0,1\n",
    "#a,b = 1,1\n",
    "#a,b = 1,2\n",
    "#a,b = 2,3\n",
    "#a,b = 3,5\n",
    "#returns 3"
   ]
  },
  {
   "cell_type": "markdown",
   "metadata": {},
   "source": [
    "Oh no, a wild `for .. in..` appears.\n",
    "\n",
    "A `for ... in ...` is one of two loop blocks in Python. It reads \"for each something in list do action\""
   ]
  },
  {
   "cell_type": "markdown",
   "metadata": {},
   "source": [
    "### Remember the \"My name is..\" example!\n",
    "Now that we know what a for loop is we can improve things a bit."
   ]
  },
  {
   "cell_type": "code",
   "execution_count": 17,
   "metadata": {},
   "outputs": [],
   "source": [
    "names = [\"Mary\",\"Jonh\",\"Unknown\",\"Someone else\"]"
   ]
  },
  {
   "cell_type": "markdown",
   "metadata": {},
   "source": [
    "New stuff:\n",
    "* [] represents a list of anything \n",
    "* () represents a tuple of anything (Which is immutable- you can not change it after you create you)\n",
    "\n",
    "In reality its almost the same thing but conceptually it has different meanings. \n",
    "\n",
    "The items within both of these structures can be accessed through indexing e.g `names[0]` returns \"Mary\"\n"
   ]
  },
  {
   "cell_type": "markdown",
   "metadata": {},
   "source": [
    "Iterate that name list (for each name use the previously defined function)"
   ]
  },
  {
   "cell_type": "code",
   "execution_count": null,
   "metadata": {},
   "outputs": [],
   "source": []
  },
  {
   "cell_type": "markdown",
   "metadata": {},
   "source": [
    "## Shopping List\n",
    "\n",
    "Let's say we have a shopping list that is composed of a certain number of items and their price, and we want to calculate the total sum."
   ]
  },
  {
   "cell_type": "code",
   "execution_count": 18,
   "metadata": {},
   "outputs": [],
   "source": [
    "shopping_list = [(\"Revista\",4.3),(\"Carro\",10000),(\"Casa\",85000),(\"Monitor\",120)] #A bit of a weird list no ?"
   ]
  },
  {
   "cell_type": "markdown",
   "metadata": {},
   "source": [
    "Lets create a function that calculates the total sum of any list with this format"
   ]
  },
  {
   "cell_type": "markdown",
   "metadata": {},
   "source": [
    "## Classes\n",
    "I wont show you here how to do them. However, the key point is to know that a class is a collection of functions which can have internal state.\n",
    "Classes are used to normally represent something complex (like a person which has a name and a set of function associated). \n",
    "They are also used to organize and re-use code.\n",
    "e.g lets say we have a class Counter, and we want to initialize a counter.\n",
    "\n",
    "First we do.\n",
    "\n",
    "`counter = Counter()` # We create an object of the class (a class is just a blueprint of something so we need to create it)\n",
    "\n",
    "Then we can do\n",
    "\n",
    "`counter.increase()` #Which would increase the counter by one.\n",
    "\n",
    "and if we do\n",
    "\n",
    "`counter.print()` # we would get the value of the counter, which would be 1.\n"
   ]
  },
  {
   "cell_type": "markdown",
   "metadata": {},
   "source": [
    "### Libraries"
   ]
  },
  {
   "cell_type": "markdown",
   "metadata": {},
   "source": [
    "Libraries are just a way to say \"Classes\" that were made by other people. \n",
    "\n",
    "Normally we can use them by first importing them like:\n",
    "\n",
    "`import pandas`\n",
    "\n",
    "Which is exactly what we are going to talk about next !"
   ]
  },
  {
   "cell_type": "code",
   "execution_count": null,
   "metadata": {},
   "outputs": [],
   "source": []
  }
 ],
 "metadata": {
  "kernelspec": {
   "display_name": "Python 3",
   "language": "python",
   "name": "python3"
  },
  "language_info": {
   "codemirror_mode": {
    "name": "ipython",
    "version": 3
   },
   "file_extension": ".py",
   "mimetype": "text/x-python",
   "name": "python",
   "nbconvert_exporter": "python",
   "pygments_lexer": "ipython3",
   "version": "3.8.5"
  }
 },
 "nbformat": 4,
 "nbformat_minor": 4
}
