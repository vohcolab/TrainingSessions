{
 "cells": [
  {
   "cell_type": "markdown",
   "metadata": {
    "deletable": false,
    "editable": true,
    "nbgrader": {
     "grade": false,
     "grade_id": "cell-63aee61ad7c5ad78",
     "locked": true,
     "schema_version": 1,
     "solution": false
    }
   },
   "source": [
    "# Subsetting data: Exercise notebook\n",
    "\n",
    "In this notebook you'll practice the following:\n",
    "- Setting pandas Dataframe index\n",
    "- Selecting columns (brackets and dot notation)\n",
    "- Selecting rows (loc and iloc)\n",
    "- Subsetting on conditions\n",
    "- Removing and Adding columns"
   ]
  },
  {
   "cell_type": "code",
   "execution_count": 2,
   "metadata": {
    "deletable": false,
    "editable": true,
    "nbgrader": {
     "grade": false,
     "grade_id": "cell-c4fc286960a67c7f",
     "locked": true,
     "schema_version": 1,
     "solution": false
    }
   },
   "outputs": [],
   "source": [
    "import pandas as pd"
   ]
  },
  {
   "cell_type": "markdown",
   "metadata": {
    "deletable": false,
    "editable": true,
    "nbgrader": {
     "grade": false,
     "grade_id": "cell-1dc0734066ab2665",
     "locked": true,
     "schema_version": 1,
     "solution": false
    }
   },
   "source": [
    "For these exercices we will be using a zomato dataset containing the description and ratings of several restaurants.\n",
    "\n",
    "In each exercise, you'll be asked to implement a function. In order to test it before you submit the assignement, add a new cell and call the function to inspect it's output."
   ]
  },
  {
   "cell_type": "code",
   "execution_count": 3,
   "metadata": {
    "deletable": false,
    "editable": true,
    "nbgrader": {
     "grade": false,
     "grade_id": "cell-0a59c17d9c2a28bf",
     "locked": true,
     "schema_version": 1,
     "solution": false
    }
   },
   "outputs": [
    {
     "name": "stdout",
     "output_type": "stream",
     "text": [
      "(10000, 7)\n"
     ]
    },
    {
     "data": {
      "text/html": [
       "<div>\n",
       "<style scoped>\n",
       "    .dataframe tbody tr th:only-of-type {\n",
       "        vertical-align: middle;\n",
       "    }\n",
       "\n",
       "    .dataframe tbody tr th {\n",
       "        vertical-align: top;\n",
       "    }\n",
       "\n",
       "    .dataframe thead th {\n",
       "        text-align: right;\n",
       "    }\n",
       "</style>\n",
       "<table border=\"1\" class=\"dataframe\">\n",
       "  <thead>\n",
       "    <tr style=\"text-align: right;\">\n",
       "      <th></th>\n",
       "      <th>YearStart</th>\n",
       "      <th>YearEnd</th>\n",
       "      <th>LocationDesc</th>\n",
       "      <th>Topic</th>\n",
       "      <th>Question</th>\n",
       "      <th>DataValueUnit</th>\n",
       "      <th>DataValue</th>\n",
       "    </tr>\n",
       "    <tr>\n",
       "      <th>indicator_id</th>\n",
       "      <th></th>\n",
       "      <th></th>\n",
       "      <th></th>\n",
       "      <th></th>\n",
       "      <th></th>\n",
       "      <th></th>\n",
       "      <th></th>\n",
       "    </tr>\n",
       "  </thead>\n",
       "  <tbody>\n",
       "    <tr>\n",
       "      <th>8488</th>\n",
       "      <td>2016</td>\n",
       "      <td>2016</td>\n",
       "      <td>New York</td>\n",
       "      <td>Overarching Conditions</td>\n",
       "      <td>Recent activity limitation among adults aged &gt;...</td>\n",
       "      <td>Number</td>\n",
       "      <td>2.4</td>\n",
       "    </tr>\n",
       "    <tr>\n",
       "      <th>1390</th>\n",
       "      <td>2012</td>\n",
       "      <td>2012</td>\n",
       "      <td>Arizona</td>\n",
       "      <td>Cardiovascular Disease</td>\n",
       "      <td>Influenza vaccination among noninstitutionaliz...</td>\n",
       "      <td>%</td>\n",
       "      <td>59.4</td>\n",
       "    </tr>\n",
       "    <tr>\n",
       "      <th>2301</th>\n",
       "      <td>2014</td>\n",
       "      <td>2014</td>\n",
       "      <td>Illinois</td>\n",
       "      <td>Oral Health</td>\n",
       "      <td>No tooth loss among adults aged 18-64 years</td>\n",
       "      <td>%</td>\n",
       "      <td>NaN</td>\n",
       "    </tr>\n",
       "    <tr>\n",
       "      <th>552</th>\n",
       "      <td>2009</td>\n",
       "      <td>2013</td>\n",
       "      <td>Michigan</td>\n",
       "      <td>Cancer</td>\n",
       "      <td>Cancer of the prostate, mortality</td>\n",
       "      <td>NaN</td>\n",
       "      <td>NaN</td>\n",
       "    </tr>\n",
       "    <tr>\n",
       "      <th>4546</th>\n",
       "      <td>2012</td>\n",
       "      <td>2012</td>\n",
       "      <td>Wisconsin</td>\n",
       "      <td>Cardiovascular Disease</td>\n",
       "      <td>Mortality from total cardiovascular diseases</td>\n",
       "      <td>cases per 100,000</td>\n",
       "      <td>34.0</td>\n",
       "    </tr>\n",
       "  </tbody>\n",
       "</table>\n",
       "</div>"
      ],
      "text/plain": [
       "              YearStart  YearEnd LocationDesc                   Topic  \\\n",
       "indicator_id                                                            \n",
       "8488               2016     2016     New York  Overarching Conditions   \n",
       "1390               2012     2012      Arizona  Cardiovascular Disease   \n",
       "2301               2014     2014     Illinois             Oral Health   \n",
       "552                2009     2013     Michigan                  Cancer   \n",
       "4546               2012     2012    Wisconsin  Cardiovascular Disease   \n",
       "\n",
       "                                                       Question  \\\n",
       "indicator_id                                                      \n",
       "8488          Recent activity limitation among adults aged >...   \n",
       "1390          Influenza vaccination among noninstitutionaliz...   \n",
       "2301                No tooth loss among adults aged 18-64 years   \n",
       "552                           Cancer of the prostate, mortality   \n",
       "4546               Mortality from total cardiovascular diseases   \n",
       "\n",
       "                  DataValueUnit DataValue  \n",
       "indicator_id                               \n",
       "8488                     Number       2.4  \n",
       "1390                          %      59.4  \n",
       "2301                          %       NaN  \n",
       "552                         NaN       NaN  \n",
       "4546          cases per 100,000      34.0  "
      ]
     },
     "execution_count": 3,
     "metadata": {},
     "output_type": "execute_result"
    }
   ],
   "source": [
    "# Read restaurants dataset and set restaurant name column as index\n",
    "data_path = 'https://raw.githubusercontent.com/vohcolab/PandaViz-Workshop/main/Pandas/Pandas%20Advanced/data/U.S._Chronic_Disease_Indicators.csv'\n",
    "# this path would also work if you are running jupyter locally on this repository\n",
    "# data_path = 'data/U.S._Chronic_Disease_Indicators.csv'\n",
    "\n",
    "indicators = pd.read_csv(data_path, index_col='indicator_id')\n",
    "\n",
    "# Show first 5 lines\n",
    "print(indicators.shape)\n",
    "indicators.head(5)"
   ]
  },
  {
   "cell_type": "markdown",
   "metadata": {
    "deletable": false,
    "editable": true,
    "nbgrader": {
     "grade": false,
     "grade_id": "cell-986fc6db0e7fb3e8",
     "locked": true,
     "schema_version": 1,
     "solution": false
    }
   },
   "source": [
    "## Exercise 1\n",
    "\n",
    "Selecting columns\n",
    "\n",
    "Select the column __*Topic*__."
   ]
  },
  {
   "cell_type": "code",
   "execution_count": null,
   "metadata": {
    "deletable": false,
    "nbgrader": {
     "grade": false,
     "grade_id": "exercice_1",
     "locked": false,
     "schema_version": 1,
     "solution": true
    }
   },
   "outputs": [],
   "source": [
    "def exercise_1(df):\n",
    "    \"\"\" \n",
    "    Select the column Topic of the DataFrame\n",
    "    \n",
    "    Args:\n",
    "        df (pd.DataFrame): the input DataFrame\n",
    "\n",
    "    Returns:\n",
    "        (pd.Series): Topic column\n",
    "\n",
    "    \"\"\"\n",
    "    \n",
    "    # YOUR CODE HERE\n",
    "    raise NotImplementedError()\n",
    "    "
   ]
  },
  {
   "cell_type": "code",
   "execution_count": null,
   "metadata": {
    "deletable": false,
    "editable": true,
    "nbgrader": {
     "grade": true,
     "grade_id": "exercice_1_corect",
     "locked": true,
     "points": 1.5,
     "schema_version": 1,
     "solution": false
    }
   },
   "outputs": [],
   "source": [
    "# This cell is what will test your code, please ignore it!\n",
    "df_test = exercise_1(indicators)\n",
    "assert isinstance(df_test, pd.Series)\n",
    "assert df_test.name == 'Topic'\n",
    "assert df_test.shape[0] == indicators.shape[0]\n",
    "#pd.testing.assert_series_equal(df_test, df_true)"
   ]
  },
  {
   "cell_type": "markdown",
   "metadata": {},
   "source": [
    "## Exercise 2\n",
    "\n",
    "Selecting columns.\n",
    "\n",
    "Select columns __*LocationDesc*__ and __*Question*__."
   ]
  },
  {
   "cell_type": "code",
   "execution_count": null,
   "metadata": {
    "deletable": false,
    "nbgrader": {
     "grade": false,
     "grade_id": "exercice_2",
     "locked": false,
     "schema_version": 1,
     "solution": true
    }
   },
   "outputs": [],
   "source": [
    "def exercise_2(df):\n",
    "    \"\"\" \n",
    "    Select columns LocationDesc and Question\n",
    "    \n",
    "    Args:\n",
    "        df (pd.DataFrame): the input DataFrame\n",
    "\n",
    "    Returns:\n",
    "        (pd.DataFrame): LocationDesc and Question columns\n",
    "\n",
    "    \"\"\"\n",
    "    # YOUR CODE HERE\n",
    "    raise NotImplementedError()"
   ]
  },
  {
   "cell_type": "code",
   "execution_count": null,
   "metadata": {
    "deletable": false,
    "editable": true,
    "nbgrader": {
     "grade": true,
     "grade_id": "exercice_2_correct",
     "locked": true,
     "points": 1.5,
     "schema_version": 1,
     "solution": false
    }
   },
   "outputs": [],
   "source": [
    "# This cell is what will test your code, please ignore it!\n",
    "df_test = exercise_2(indicators)\n",
    "assert isinstance(exercise_2(indicators), pd.DataFrame)\n",
    "assert df_test.columns.tolist() == ['LocationDesc', 'Question']\n",
    "assert df_test.shape[0] == indicators.shape[0]"
   ]
  },
  {
   "cell_type": "markdown",
   "metadata": {},
   "source": [
    "## Exercise 3\n",
    "Selecting rows.\n",
    "\n",
    "Select the **78th**, the **156th** and the **390th** rows."
   ]
  },
  {
   "cell_type": "code",
   "execution_count": null,
   "metadata": {
    "deletable": false,
    "nbgrader": {
     "grade": false,
     "grade_id": "exercice_3",
     "locked": false,
     "schema_version": 1,
     "solution": true
    }
   },
   "outputs": [],
   "source": [
    "def exercise_3(df):\n",
    "    \"\"\" \n",
    "    Select the 78, the 156 and the 390 rows\n",
    "    \n",
    "    Args:\n",
    "        df (pd.DataFrame): the input DataFrame\n",
    "\n",
    "    Returns:\n",
    "        (pd.DataFrame): subsetted df\n",
    "\n",
    "    \"\"\"\n",
    "    \n",
    "    # YOUR CODE HERE\n",
    "    raise NotImplementedError()"
   ]
  },
  {
   "cell_type": "code",
   "execution_count": null,
   "metadata": {
    "deletable": false,
    "editable": true,
    "nbgrader": {
     "grade": true,
     "grade_id": "exercice_3_correct",
     "locked": true,
     "points": 1.5,
     "schema_version": 1,
     "solution": false
    }
   },
   "outputs": [],
   "source": [
    "# This cell is what will test your code, please ignore it!\n",
    "df_test = exercise_3(indicators)\n",
    "assert isinstance(df_test, pd.DataFrame)\n",
    "assert df_test.shape[1] == indicators.shape[1]\n",
    "assert df_test.index.tolist() == [9152, 9115, 1215]"
   ]
  },
  {
   "cell_type": "markdown",
   "metadata": {
    "deletable": false,
    "editable": true,
    "nbgrader": {
     "grade": false,
     "grade_id": "cell-cf9e255f531d08cf",
     "locked": true,
     "schema_version": 1,
     "solution": false
    }
   },
   "source": [
    "## Exercise 4\n",
    "Selecting rows and columns\n",
    "\n",
    "Select columns __*Question*__, __*DataValueUnit*__, and __*DataValue*__,  for indicators whose **id** is __1143__ or __1910__."
   ]
  },
  {
   "cell_type": "code",
   "execution_count": null,
   "metadata": {
    "deletable": false,
    "nbgrader": {
     "grade": false,
     "grade_id": "exercise_4",
     "locked": false,
     "schema_version": 1,
     "solution": true
    }
   },
   "outputs": [],
   "source": [
    "def exercise_4(df):\n",
    "    \"\"\" \n",
    "    Select columns aggregate_rating and restaurant name for rooms 8202867 and 16553285\n",
    "    \n",
    "    Args:\n",
    "        df (pd.DataFrame): the input DataFrame\n",
    "\n",
    "    Returns:\n",
    "        (pd.DataFrame): subsetted df\n",
    "\n",
    "    \"\"\"\n",
    "    \n",
    "    # YOUR CODE HERE\n",
    "    raise NotImplementedError()"
   ]
  },
  {
   "cell_type": "code",
   "execution_count": null,
   "metadata": {
    "deletable": false,
    "editable": true,
    "nbgrader": {
     "grade": true,
     "grade_id": "exercise_4_correct",
     "locked": true,
     "points": 2,
     "schema_version": 1,
     "solution": false
    }
   },
   "outputs": [],
   "source": [
    "# This cell is what will test your code, please ignore it!\n",
    "df_test = exercise_4(indicators)\n",
    "assert isinstance(df_test, pd.DataFrame)\n",
    "assert df_test.index.tolist() == [1143, 1910]\n",
    "assert df_test.columns.tolist() == ['Question','DataValueUnit', 'DataValue']"
   ]
  },
  {
   "cell_type": "markdown",
   "metadata": {
    "deletable": false,
    "editable": true,
    "nbgrader": {
     "grade": false,
     "grade_id": "cell-d1d81e24a5119351",
     "locked": true,
     "schema_version": 1,
     "solution": false
    }
   },
   "source": [
    "## Exercise 5\n",
    "Using slice operation.\n",
    "\n",
    "Use the slice operation to pick the **indicators** rows between **2100** and **3100**."
   ]
  },
  {
   "cell_type": "code",
   "execution_count": null,
   "metadata": {
    "deletable": false,
    "nbgrader": {
     "grade": false,
     "grade_id": "exercice_7",
     "locked": false,
     "schema_version": 1,
     "solution": true
    }
   },
   "outputs": [],
   "source": [
    "def exercise_5(df):\n",
    "    \"\"\" \n",
    "    Use the slice operation to pick all indicators whose rows are between 2100 (including) and 3100 (excluding).\n",
    "    \n",
    "    Args:\n",
    "        df (pd.DataFrame): the input DataFrame\n",
    "\n",
    "    Returns:\n",
    "        (pd.DataFrame): df subset of rows\n",
    "\n",
    "    \"\"\"\n",
    "    \n",
    "    # YOUR CODE HERE\n",
    "    raise NotImplementedError()"
   ]
  },
  {
   "cell_type": "code",
   "execution_count": null,
   "metadata": {
    "deletable": false,
    "editable": true,
    "nbgrader": {
     "grade": true,
     "grade_id": "exercice_7_correct",
     "locked": true,
     "points": 1.5,
     "schema_version": 1,
     "solution": false
    }
   },
   "outputs": [],
   "source": [
    "# This cell is what will test your code, please ignore it!\n",
    "df_test = exercise_5(indicators)\n",
    "assert isinstance(df_test, pd.DataFrame)\n",
    "assert df_test.shape == (1000,7)\n",
    "assert df_test.index[-1] == 8905\n",
    "assert df_test.columns.tolist() == indicators.columns.tolist()"
   ]
  },
  {
   "cell_type": "markdown",
   "metadata": {
    "deletable": false,
    "editable": true,
    "nbgrader": {
     "grade": false,
     "grade_id": "cell-4ce398405164b68c",
     "locked": true,
     "schema_version": 1,
     "solution": false
    }
   },
   "source": [
    "## Exercise 6\n",
    "\n",
    "Help Sofia find the data she needs to complete her study!\n",
    "\n",
    "Sofia has been researching on the impact of **Arthritis**. For her final remarks on this subject, she needs to look at all the indicators that have been measured for this topic.\n",
    "\n",
    "Find the options that fullfill these criteria. In the end, present only the **YearStart**, **LocationDesc**, **Question**, and **DataValue**."
   ]
  },
  {
   "cell_type": "code",
   "execution_count": null,
   "metadata": {
    "deletable": false,
    "nbgrader": {
     "grade": false,
     "grade_id": "exercice_8",
     "locked": false,
     "schema_version": 1,
     "solution": true
    }
   },
   "outputs": [],
   "source": [
    "def exercise_6(df):\n",
    "    \"\"\" \n",
    "    Find all the indicators involving Arthritis.\n",
    "    \n",
    "    Args:\n",
    "        df (pd.DataFrame): the input DataFrame\n",
    "\n",
    "    Returns:\n",
    "        (pd.DataFrame): subsetted df\n",
    "\n",
    "    \"\"\"\n",
    "    # YOUR CODE HERE\n",
    "    raise NotImplementedError()"
   ]
  },
  {
   "cell_type": "code",
   "execution_count": null,
   "metadata": {
    "deletable": false,
    "editable": true,
    "nbgrader": {
     "grade": true,
     "grade_id": "exercice_8_correct",
     "locked": true,
     "points": 2,
     "schema_version": 1,
     "solution": false
    }
   },
   "outputs": [],
   "source": [
    "# This cell is what will test your code, please ignore it!\n",
    "df_test = exercise_6(indicators)\n",
    "assert isinstance(df_test, pd.DataFrame)\n",
    "assert len(df_test.columns) == 4\n",
    "assert len(df_test.index) == 681\n",
    "assert sum(df_test.DataValue.isna()) == 229\n",
    "assert round(df_test.DataValue.astype(float).mean(),1) == 36.7\n",
    "assert len(\"\".join(df_test.Question)) == 45972\n",
    "assert 'California' in df_test.LocationDesc.tolist()"
   ]
  },
  {
   "cell_type": "markdown",
   "metadata": {
    "deletable": false,
    "editable": true,
    "nbgrader": {
     "grade": false,
     "grade_id": "cell-c3ea67ba48876252",
     "locked": true,
     "schema_version": 1,
     "solution": false
    }
   },
   "source": [
    "## Exercise 7\n",
    "\n",
    "Help Marco finding the study he needs.\n",
    "\n",
    "Marco is currently working in **Mental Health** issues in the general population. He is looking for recent indicators to help him in his analysis of the situation in **Arkansas**. So he asks you if there are any indicators that started in 2018 that may be helpful to him.\n",
    "\n",
    "Find the options that fullfill this criteria. You must show the **YearStart**, **Question**,**DataValueUnit**, and **DataValue**.\n",
    "\n",
    "Hint: Beaware of the columns data types. You might think some things are strings when in fact their are integers, or vice-versa."
   ]
  },
  {
   "cell_type": "code",
   "execution_count": null,
   "metadata": {
    "deletable": false,
    "nbgrader": {
     "grade": false,
     "grade_id": "exercice_9",
     "locked": false,
     "schema_version": 1,
     "solution": true
    }
   },
   "outputs": [],
   "source": [
    "def exercise_7(df):\n",
    "    \"\"\" \n",
    "    Find all Mental Health indicators for Arkansas in the year 2018.\n",
    "    \n",
    "    Args:\n",
    "        df (pd.DataFrame): the input DataFrame\n",
    "\n",
    "    Returns:\n",
    "        (pd.DataFrame): subsetted df\n",
    "\n",
    "    \"\"\"\n",
    "    # YOUR CODE HERE\n",
    "    raise NotImplementedError()"
   ]
  },
  {
   "cell_type": "code",
   "execution_count": null,
   "metadata": {
    "deletable": false,
    "editable": true,
    "nbgrader": {
     "grade": true,
     "grade_id": "exercice_9_correct",
     "locked": true,
     "points": 2,
     "schema_version": 1,
     "solution": false
    }
   },
   "outputs": [],
   "source": [
    "# This cell is what will test your code, please ignore it!\n",
    "df_test = exercise_7(indicators)\n",
    "assert isinstance(df_test, pd.DataFrame)\n",
    "assert len(df_test.columns) == 4\n",
    "assert len(df_test.index) == 1\n",
    "assert 'recent' in df_test['Question'].tolist()[0]\n",
    "assert df_test.DataValue.get(8144) == '19.6'"
   ]
  },
  {
   "cell_type": "markdown",
   "metadata": {
    "deletable": false,
    "editable": true,
    "nbgrader": {
     "grade": false,
     "grade_id": "cell-4ccac3fa748e29d4",
     "locked": true,
     "schema_version": 1,
     "solution": false
    }
   },
   "source": [
    "##  Exercise 8\n",
    "\n",
    "What are the 5 locations with the most indicators in the dataset?\n",
    "\n",
    "**Return** a series where the index is the 5 locations and the values are their respective count in the dataset.\n",
    "\n",
    "_hints_:\n",
    "1. Hmum we want to represent each location by their appearance count in the dataset. In other words, despite the fact that each location appears multiple times in the dataset, we want to represent each one of them with only a number. Where did we learn to do such a thing...\n",
    "2. Now we want the 5 highest ones. I believe there's a method to give us just that.."
   ]
  },
  {
   "cell_type": "code",
   "execution_count": null,
   "metadata": {
    "deletable": false,
    "nbgrader": {
     "grade": false,
     "grade_id": "exercice_10",
     "locked": false,
     "schema_version": 1,
     "solution": true
    }
   },
   "outputs": [],
   "source": [
    "def exercise_8(df):\n",
    "    \"\"\" \n",
    "    Find the 5 locations with the highest appearance on the dataset, and their respective count.\n",
    "    \n",
    "    Args:\n",
    "        df (pd.DataFrame): the input DataFrame\n",
    "\n",
    "    Returns:\n",
    "        new_df (pd.DataFrame): the transformed DataFrame\n",
    "\n",
    "    \"\"\"\n",
    "    \n",
    "    # YOUR CODE HERE\n",
    "    raise NotImplementedError()\n"
   ]
  },
  {
   "cell_type": "code",
   "execution_count": null,
   "metadata": {
    "deletable": false,
    "editable": true,
    "nbgrader": {
     "grade": true,
     "grade_id": "exercice_10_correct",
     "locked": true,
     "points": 2,
     "schema_version": 1,
     "solution": false
    }
   },
   "outputs": [],
   "source": [
    "df_test= exercise_8(indicators)\n",
    "assert isinstance(df_test, pd.Series)\n",
    "assert df_test.index.name == 'LocationDesc'\n",
    "assert 'Kentucky' in df_test.index.tolist()\n",
    "assert df_test.index.values[-1] == 'Washington' and df_test.values[-1] == 206"
   ]
  }
 ],
 "metadata": {
  "kernelspec": {
   "display_name": "Python 3",
   "language": "python",
   "name": "python3"
  },
  "language_info": {
   "codemirror_mode": {
    "name": "ipython",
    "version": 3
   },
   "file_extension": ".py",
   "mimetype": "text/x-python",
   "name": "python",
   "nbconvert_exporter": "python",
   "pygments_lexer": "ipython3",
   "version": "3.8.3"
  }
 },
 "nbformat": 4,
 "nbformat_minor": 4
}
