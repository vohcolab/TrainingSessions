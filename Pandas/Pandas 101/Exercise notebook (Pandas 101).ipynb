{
 "cells": [
  {
   "cell_type": "markdown",
   "metadata": {},
   "source": [
    "# Pandas 101: Exercise Notebook"
   ]
  },
  {
   "cell_type": "markdown",
   "metadata": {},
   "source": [
    "first things first, import:"
   ]
  },
  {
   "cell_type": "code",
   "execution_count": null,
   "metadata": {},
   "outputs": [],
   "source": [
    "import pandas as pd\n",
    "import numpy as np\n",
    "from hashlib import sha256\n",
    "import json"
   ]
  },
  {
   "cell_type": "markdown",
   "metadata": {},
   "source": [
    "In this notebook the following is tested:\n",
    "\n",
    "- Pandas Series\n",
    "- Pandas DataFrames\n",
    "- Printing the columns\n",
    "- Load a dataset\n",
    "- Preview a dataframe\n",
    "- Make use of info and describe"
   ]
  },
  {
   "cell_type": "markdown",
   "metadata": {},
   "source": [
    "## Exercise 1: Series\n",
    "\n",
    "In this first exercise the goal is to get used to creating series."
   ]
  },
  {
   "cell_type": "markdown",
   "metadata": {},
   "source": [
    "#### 1.1) Create a series with the name of the football club champions of 2019:"
   ]
  },
  {
   "cell_type": "code",
   "execution_count": null,
   "metadata": {},
   "outputs": [],
   "source": [
    "# Create a series with the names of the football champions, using the order provided.\n",
    "# Let pandas generate the index on its own. \n",
    "# Don't forget to delete the raise error\n",
    "\n",
    "football_clubs_list = ['Barcelona', 'Benfica', 'Juventus', 'PSG', 'Manchester City']\n",
    "\n",
    "# Create a series for the football_clubs, and call it football_clubs_series. \n",
    "# football_clubs_series = ...\n",
    "\n",
    "# YOUR CODE HERE\n",
    "raise NotImplementedError()"
   ]
  },
  {
   "cell_type": "code",
   "execution_count": null,
   "metadata": {},
   "outputs": [],
   "source": [
    "# run this cell to see the results \n",
    "football_clubs_series"
   ]
  },
  {
   "cell_type": "code",
   "execution_count": null,
   "metadata": {},
   "outputs": [],
   "source": [
    "assert len(football_clubs_series.index ) == 5 \n",
    "assert ((football_clubs_series.values[3] == 'PSG') & (football_clubs_series.values[-1] =='Manchester City'))\n",
    "assert (isinstance(football_clubs_series, pd.Series))"
   ]
  },
  {
   "cell_type": "code",
   "execution_count": null,
   "metadata": {},
   "outputs": [],
   "source": [
    "#### 1.2) Create a series for the countries of each football club (using the football clubs as index):"
   ]
  },
  {
   "cell_type": "code",
   "execution_count": null,
   "metadata": {},
   "outputs": [],
   "source": [
    "football_clubs_list = ['Barcelona', 'Benfica', 'Juventus', 'PSG', 'Manchester City']\n",
    "\n",
    "country_list = ['Spain', 'Portugal', 'Italy', 'France', 'England']\n",
    "\n",
    "# Create a series which has the football club as index, and the respective country as values. \n",
    "# country_series = ...\n",
    "\n",
    "# YOUR CODE HERE\n",
    "raise NotImplementedError()"
   ]
  },
  {
   "cell_type": "code",
   "execution_count": null,
   "metadata": {},
   "outputs": [],
   "source": [
    "# run this cell to see the results \n",
    "country_series"
   ]
  },
  {
   "cell_type": "code",
   "execution_count": null,
   "metadata": {},
   "outputs": [],
   "source": [
    "assert (isinstance(country_series, pd.Series))\n",
    "assert(len(country_series==5))\n",
    "assert(country_series[-3] == 'Italy')\n",
    "assert(country_series.index[3] == 'PSG')"
   ]
  },
  {
   "cell_type": "markdown",
   "metadata": {},
   "source": [
    "#### 1.3) Get only the index values of a given series"
   ]
  },
  {
   "cell_type": "code",
   "execution_count": null,
   "metadata": {},
   "outputs": [],
   "source": [
    "series = pd.Series(['Spain', 'Portugal', 'Italy', 'France', 'England'], \n",
    "                          index=['Barcelona', 'Benfica', 'Juventus', 'PSG', 'Manchester City'])\n",
    "\n",
    "# Get an array with the indexes of the serie.\n",
    "# index_series = ...\n",
    "\n",
    "# YOUR CODE HERE\n",
    "raise NotImplementedError()"
   ]
  },
  {
   "cell_type": "code",
   "execution_count": null,
   "metadata": {},
   "outputs": [],
   "source": [
    "# run this cell to see the results \n",
    "index_series"
   ]
  },
  {
   "cell_type": "code",
   "execution_count": null,
   "metadata": {},
   "outputs": [],
   "source": [
    "assert (isinstance(index_series, pd.core.indexes.base.Index))\n",
    "assert(len(index_series==5))\n",
    "assert(index_series[2] == 'Juventus')"
   ]
  },
  {
   "cell_type": "markdown",
   "metadata": {},
   "source": [
    "## Exercise 2: DataFrames\n",
    "\n",
    "In this exercise the goal is to create a simple DataFrame."
   ]
  },
  {
   "cell_type": "markdown",
   "metadata": {},
   "source": [
    "#### 2.1) Create a DataFrame with FootballClub/Country/TotalMarketValue columns"
   ]
  },
  {
   "cell_type": "code",
   "execution_count": null,
   "metadata": {},
   "outputs": [],
   "source": [
    "# Create a dataframe with 3 columns: FootballClub, Country, TotalMarketValue. \n",
    "# Let pandas create the index itself\n",
    "# Make sure the columns are in the right order \n",
    "# winners_2019 must be the name of the final dataframe.\n",
    "\n",
    "football_clubs_list = ['Barcelona', 'Benfica', 'Juventus', 'PSG', 'Manchester City']\n",
    "\n",
    "country_list = ['Spain', 'Portugal', 'Italy', 'France', 'England']\n",
    "\n",
    "totalmarketvalue_list = [1070.0, 365.50, 745.50, 922.25, 1170.0]\n",
    "\n",
    "# in one line, build the dataframe, using a dictionary to tell it what should be the column names\n",
    "# remember to give the columns the right names, or it won't pass the asserts\n",
    "# winners_2019 = ...\n",
    "\n",
    "\n",
    "# YOUR CODE HERE\n",
    "raise NotImplementedError()"
   ]
  },
  {
   "cell_type": "code",
   "execution_count": null,
   "metadata": {},
   "outputs": [],
   "source": [
    "# The expected output is a dataframe with columns named\n",
    "# \"FootballClub\", \"Country\" and \"TotalMarketValue\", indexed from 0 to 4.\n",
    "winners_2019"
   ]
  },
  {
   "cell_type": "code",
   "execution_count": null,
   "metadata": {},
   "outputs": [],
   "source": [
    "assert(isinstance(winners_2019, pd.DataFrame))\n",
    "assert(winners_2019.shape == (5, 3))\n",
    "assert(winners_2019.iloc[3, 1] == 'France')\n",
    "assert(winners_2019.columns[2] == 'TotalMarketValue')"
   ]
  },
  {
   "cell_type": "markdown",
   "metadata": {},
   "source": [
    "#### 2.2) Create a DataFrame with the Country/TotalMarketValue columns, but with FootballClub as row indexes"
   ]
  },
  {
   "cell_type": "code",
   "execution_count": null,
   "metadata": {},
   "outputs": [],
   "source": [
    "# Create a dataframe with columns Country and TotalMarketValue (in that order), but use FootballClub as index\n",
    "# winners_2019_ind must be the name of the final dataframe.\n",
    "\n",
    "football_clubs_list = ['Barcelona', 'Benfica', 'Juventus', 'PSG', 'Manchester City']\n",
    "\n",
    "country_list = ['Spain', 'Portugal', 'Italy', 'France', 'England']\n",
    "\n",
    "totalmarketvalue_list = [1070.0, 365.50, 745.50, 922.25, 1170.0]\n",
    "\n",
    "# Use the lists to create Series for Country and TotalMarketValue\n",
    "# Hint: use the argument index\n",
    "\n",
    "# country_series = ...\n",
    "\n",
    "# totalmarketvalue_series = ...\n",
    "\n",
    "# Finally create the DataFrame, using a dictionary. This should only be 1 line of code. \n",
    "# winners_2019_ind = ...\n",
    "\n",
    "# YOUR CODE HERE\n",
    "raise NotImplementedError()"
   ]
  },
  {
   "cell_type": "code",
   "execution_count": null,
   "metadata": {},
   "outputs": [],
   "source": [
    "# run this cell to see the results \n",
    "# The expected output is a dataframe with columns named \"Country\", \"TotalMarketValue\", indexed with the correct football clubs.\n",
    "winners_2019_ind"
   ]
  },
  {
   "cell_type": "code",
   "execution_count": null,
   "metadata": {},
   "outputs": [],
   "source": [
    "assert(isinstance(winners_2019_ind, pd.DataFrame))\n",
    "assert(winners_2019_ind.shape == (5, 2))\n",
    "assert(winners_2019_ind.index[3] == 'PSG')\n",
    "assert(winners_2019_ind.columns[1] == 'TotalMarketValue')\n",
    "backup_winners_2019_ind = winners_2019_ind.copy()"
   ]
  },
  {
   "cell_type": "markdown",
   "metadata": {},
   "source": [
    "## Exercise 3: Load the zomato dataset\n",
    "\n",
    "\n",
    "In this exercise you will load the zomato data set.\n",
    "\n",
    "You will then preview it and retrieve some information."
   ]
  },
  {
   "cell_type": "markdown",
   "metadata": {},
   "source": [
    "#### 3.1) Load the data set"
   ]
  },
  {
   "cell_type": "code",
   "execution_count": null,
   "metadata": {},
   "outputs": [],
   "source": [
    "# Load the zomato data set\n",
    "# it is located locally at: data/zomato_restaurants.csv\n",
    "# it is located remotely at: https://raw.githubusercontent.com/vohcolab/PandaViz-Workshop/main/Pandas/Pandas%20101/data/zomato_restaurants.csv\n",
    "\n",
    "# data_path = ...\n",
    "# zomato_df = ...\n",
    "\n",
    "# YOUR CODE HERE\n",
    "raise NotImplementedError()"
   ]
  },
  {
   "cell_type": "code",
   "execution_count": null,
   "metadata": {},
   "outputs": [],
   "source": [
    "# print head it to get an idea of what you've just loaded \n",
    "zomato_df.head()"
   ]
  },
  {
   "cell_type": "code",
   "execution_count": null,
   "metadata": {},
   "outputs": [],
   "source": [
    "assert(isinstance(zomato_df, pd.DataFrame))\n",
    "assert(zomato_df.shape == (600, 14))"
   ]
  },
  {
   "cell_type": "markdown",
   "metadata": {},
   "source": [
    "#### 3.2) Set an index"
   ]
  },
  {
   "cell_type": "code",
   "execution_count": null,
   "metadata": {},
   "outputs": [],
   "source": [
    "# zomato_df_ind = ...\n",
    "\n",
    "# YOUR CODE HERE\n",
    "raise NotImplementedError()"
   ]
  },
  {
   "cell_type": "code",
   "execution_count": null,
   "metadata": {},
   "outputs": [],
   "source": [
    "# print head it to get an idea of what you've just loaded \n",
    "zomato_df_ind.head()"
   ]
  },
  {
   "cell_type": "code",
   "execution_count": null,
   "metadata": {},
   "outputs": [],
   "source": [
    "assert(isinstance(zomato_df_ind, pd.DataFrame))\n",
    "assert(zomato_df_ind.shape == (600, 13))"
   ]
  },
  {
   "cell_type": "markdown",
   "metadata": {},
   "source": [
    "#### 3.3) Get general information about the dataframe"
   ]
  },
  {
   "cell_type": "code",
   "execution_count": null,
   "metadata": {},
   "outputs": [],
   "source": [
    "# Print zomato_df_ind info\n",
    "# reminder: jupyter just prints out the last output, \n",
    "# so you don't need to use a print statement\n",
    "\n",
    "# ...\n",
    "\n",
    "# YOUR CODE HERE\n",
    "raise NotImplementedError()"
   ]
  },
  {
   "cell_type": "code",
   "execution_count": null,
   "metadata": {},
   "outputs": [],
   "source": [
    "# How many columns of type \"int\" exists?\n",
    "\n",
    "# count_int = ...\n",
    "\n",
    "# YOUR CODE HERE\n",
    "raise NotImplementedError()"
   ]
  },
  {
   "cell_type": "code",
   "execution_count": null,
   "metadata": {},
   "outputs": [],
   "source": [
    "hash_count = 'e7f6c011776e8db7cd330b54174fd76f7d0216b612387a5ffcfb81e6f0919683'\n",
    "\n",
    "assert (hash_count == sha256(str(count_int).encode()).hexdigest())   "
   ]
  },
  {
   "cell_type": "markdown",
   "metadata": {},
   "source": [
    "#### 3.4) Preview the top 7 entries"
   ]
  },
  {
   "cell_type": "code",
   "execution_count": null,
   "metadata": {},
   "outputs": [],
   "source": [
    "# Print the top 7 entries of zomato_df_ind\n",
    "\n",
    "# zomato_df_ind_top = ...\n",
    "\n",
    "# YOUR CODE HERE\n",
    "raise NotImplementedError()"
   ]
  },
  {
   "cell_type": "code",
   "execution_count": null,
   "metadata": {},
   "outputs": [],
   "source": [
    "assert (zomato_df_ind_top.shape == (7,13))"
   ]
  },
  {
   "cell_type": "markdown",
   "metadata": {},
   "source": [
    "#### 3.5) Preview the bottom 3 entries"
   ]
  },
  {
   "cell_type": "code",
   "execution_count": null,
   "metadata": {},
   "outputs": [],
   "source": [
    "# Print the bottom 3 entries of zomato_df_ind\n",
    "\n",
    "# zomato_df_ind_bottom = ...\n",
    "\n",
    "# YOUR CODE HERE\n",
    "raise NotImplementedError()"
   ]
  },
  {
   "cell_type": "code",
   "execution_count": null,
   "metadata": {},
   "outputs": [],
   "source": [
    "assert (zomato_df_ind_bottom.shape == (3,13))"
   ]
  },
  {
   "cell_type": "markdown",
   "metadata": {},
   "source": [
    "#### 3.6) Use a method to determine all the types os data in zomato_df_ind"
   ]
  },
  {
   "cell_type": "code",
   "execution_count": null,
   "metadata": {},
   "outputs": [],
   "source": [
    "# Print the type of data in zomato_df_ind\n",
    "\n",
    "# YOUR CODE HERE\n",
    "raise NotImplementedError()"
   ]
  },
  {
   "cell_type": "markdown",
   "metadata": {},
   "source": [
    "#### 3.7) Print the number of rows and the number of columns"
   ]
  },
  {
   "cell_type": "code",
   "execution_count": null,
   "metadata": {},
   "outputs": [],
   "source": [
    "# Get the nr_rows and nr_cols from zomato_df_ind, using a method\n",
    "\n",
    "#nr_rows = ...\n",
    "#nr_cols = ...\n",
    "\n",
    "# YOUR CODE HERE\n",
    "raise NotImplementedError()\n",
    "\n",
    "print(\"There are {} rows and {} columns.\".format(nr_rows, nr_cols))"
   ]
  },
  {
   "cell_type": "code",
   "execution_count": null,
   "metadata": {},
   "outputs": [],
   "source": [
    "assert (nr_rows == 600 )\n",
    "assert (nr_cols == 13 )"
   ]
  },
  {
   "cell_type": "markdown",
   "metadata": {},
   "source": [
    "#### 3.8) Get the array of column names"
   ]
  },
  {
   "cell_type": "code",
   "execution_count": null,
   "metadata": {},
   "outputs": [],
   "source": [
    "# Create an array with the column names of zomato_df_ind.\n",
    "# there is, as always, a method for this \n",
    "\n",
    "# zomato_df_columns = ...\n",
    "\n",
    "# YOUR CODE HERE\n",
    "raise NotImplementedError()"
   ]
  },
  {
   "cell_type": "code",
   "execution_count": null,
   "metadata": {},
   "outputs": [],
   "source": [
    "print(zomato_df_columns)"
   ]
  },
  {
   "cell_type": "markdown",
   "metadata": {},
   "source": [
    "The expected output is an array with 'name', 'locality', 'city', 'cuisines', 'establishment','average_cost_for_two', 'all_reviews_count', 'photo_count', 'has_table_booking', 'has_online_delivery', 'aggregate_rating', 'votes','timings'."
   ]
  },
  {
   "cell_type": "code",
   "execution_count": null,
   "metadata": {},
   "outputs": [],
   "source": [
    "assert (zomato_df_columns[1] == 'locality' )\n",
    "assert (len(zomato_df_columns) == 13)"
   ]
  },
  {
   "cell_type": "markdown",
   "metadata": {},
   "source": [
    "#### 3.9) Making use of describe() what is the standard deviation value of the votes?"
   ]
  },
  {
   "cell_type": "code",
   "execution_count": null,
   "metadata": {},
   "outputs": [],
   "source": [
    "# Print zomato_df_ind describe\n",
    "\n",
    "# YOUR CODE HERE\n",
    "raise NotImplementedError()"
   ]
  },
  {
   "cell_type": "code",
   "execution_count": null,
   "metadata": {},
   "outputs": [],
   "source": [
    "# Manually input the standard deviation value of the votes\n",
    "# yep, that simple. No tricks here :) \n",
    "\n",
    "# votes_std = ...\n",
    "\n",
    "# YOUR CODE HERE\n",
    "raise NotImplementedError()"
   ]
  },
  {
   "cell_type": "code",
   "execution_count": null,
   "metadata": {},
   "outputs": [],
   "source": [
    "print(\"Standard deviation value of the votes is {}.\".format(votes_std))"
   ]
  },
  {
   "cell_type": "code",
   "execution_count": null,
   "metadata": {},
   "outputs": [],
   "source": [
    "assert 594 < votes_std < 595"
   ]
  },
  {
   "cell_type": "code",
   "execution_count": null,
   "metadata": {},
   "outputs": [],
   "source": []
  }
 ],
 "metadata": {
  "kernelspec": {
   "display_name": "Python 3",
   "language": "python",
   "name": "python3"
  },
  "language_info": {
   "codemirror_mode": {
    "name": "ipython",
    "version": 3
   },
   "file_extension": ".py",
   "mimetype": "text/x-python",
   "name": "python",
   "nbconvert_exporter": "python",
   "pygments_lexer": "ipython3",
   "version": "3.8.3"
  }
 },
 "nbformat": 4,
 "nbformat_minor": 4
}
