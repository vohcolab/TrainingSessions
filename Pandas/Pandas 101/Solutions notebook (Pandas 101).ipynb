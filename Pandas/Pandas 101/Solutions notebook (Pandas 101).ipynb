{
 "cells": [
  {
   "cell_type": "markdown",
   "metadata": {},
   "source": [
    "# Pandas 101: Solutions Notebook\n",
    "\n",
    "\n",
    "**important**: For your learning's sake, we strongly advise you to only look at this notebook to compare with your answers or if you are reallly stuck somewhere."
   ]
  },
  {
   "cell_type": "markdown",
   "metadata": {},
   "source": [
    "first things first, import:"
   ]
  },
  {
   "cell_type": "code",
   "execution_count": 1,
   "metadata": {},
   "outputs": [],
   "source": [
    "import pandas as pd\n",
    "import numpy as np\n",
    "from hashlib import sha256\n",
    "import json"
   ]
  },
  {
   "cell_type": "markdown",
   "metadata": {},
   "source": [
    "In this notebook the following is tested:\n",
    "\n",
    "- Pandas Series\n",
    "- Pandas DataFrames\n",
    "- Printing the columns\n",
    "- Load a dataset\n",
    "- Preview a dataframe\n",
    "- Make use of info and describe"
   ]
  },
  {
   "cell_type": "markdown",
   "metadata": {},
   "source": [
    "## Exercise 1: Series\n",
    "\n",
    "In this first exercise the goal is to get used to creating series."
   ]
  },
  {
   "cell_type": "markdown",
   "metadata": {},
   "source": [
    "#### 1.1) Create a series with the name of the football club champions of 2019:"
   ]
  },
  {
   "cell_type": "code",
   "execution_count": 2,
   "metadata": {},
   "outputs": [],
   "source": [
    "# Create a series with the names of the football champions, using the order provided.\n",
    "# Let pandas generate the index on its own. \n",
    "# Don't forget to delete the raise error\n",
    "\n",
    "football_clubs_list = ['Barcelona', 'Benfica', 'Juventus', 'PSG', 'Manchester City']\n",
    "\n",
    "# Create a series for the football_clubs, and call it football_clubs_series. \n",
    "\n",
    "football_clubs_series = pd.Series(football_clubs_list)\n",
    "\n",
    "# YOUR CODE HERE\n",
    "#raise NotImplementedError()"
   ]
  },
  {
   "cell_type": "code",
   "execution_count": 3,
   "metadata": {},
   "outputs": [
    {
     "data": {
      "text/plain": [
       "0          Barcelona\n",
       "1            Benfica\n",
       "2           Juventus\n",
       "3                PSG\n",
       "4    Manchester City\n",
       "dtype: object"
      ]
     },
     "execution_count": 3,
     "metadata": {},
     "output_type": "execute_result"
    }
   ],
   "source": [
    "# run this cell to see the results \n",
    "football_clubs_series"
   ]
  },
  {
   "cell_type": "code",
   "execution_count": 4,
   "metadata": {},
   "outputs": [],
   "source": [
    "assert len(football_clubs_series.index ) == 5 \n",
    "assert ((football_clubs_series.values[3] == 'PSG') & (football_clubs_series.values[-1] =='Manchester City'))\n",
    "assert (isinstance(football_clubs_series, pd.Series))"
   ]
  },
  {
   "cell_type": "code",
   "execution_count": 5,
   "metadata": {},
   "outputs": [],
   "source": [
    "#### 1.2) Create a series for the countries of each football club (using the football clubs as index):"
   ]
  },
  {
   "cell_type": "code",
   "execution_count": 6,
   "metadata": {},
   "outputs": [],
   "source": [
    "football_clubs_list = ['Barcelona', 'Benfica', 'Juventus', 'PSG', 'Manchester City']\n",
    "\n",
    "country_list = ['Spain', 'Portugal', 'Italy', 'France', 'England']\n",
    "\n",
    "# Create a series which has the football club as index, and the respective country as values. \n",
    "country_series = pd.Series(data=country_list, index=football_clubs_list)\n",
    "\n",
    "# YOUR CODE HERE\n",
    "#raise NotImplementedError()"
   ]
  },
  {
   "cell_type": "code",
   "execution_count": 7,
   "metadata": {},
   "outputs": [
    {
     "data": {
      "text/plain": [
       "Barcelona             Spain\n",
       "Benfica            Portugal\n",
       "Juventus              Italy\n",
       "PSG                  France\n",
       "Manchester City     England\n",
       "dtype: object"
      ]
     },
     "execution_count": 7,
     "metadata": {},
     "output_type": "execute_result"
    }
   ],
   "source": [
    "# run this cell to see the results \n",
    "country_series"
   ]
  },
  {
   "cell_type": "code",
   "execution_count": 8,
   "metadata": {},
   "outputs": [],
   "source": [
    "assert (isinstance(country_series, pd.Series))\n",
    "assert(len(country_series==5))\n",
    "assert(country_series[-3] == 'Italy')\n",
    "assert(country_series.index[3] == 'PSG')"
   ]
  },
  {
   "cell_type": "markdown",
   "metadata": {},
   "source": [
    "#### 1.3) Get only the index values of a given series"
   ]
  },
  {
   "cell_type": "code",
   "execution_count": 9,
   "metadata": {},
   "outputs": [],
   "source": [
    "series = pd.Series(['Spain', 'Portugal', 'Italy', 'France', 'England'], \n",
    "                          index=['Barcelona', 'Benfica', 'Juventus', 'PSG', 'Manchester City'])\n",
    "\n",
    "# Get an array with the indexes of the serie.\n",
    "\n",
    "index_series = series.index\n",
    "\n",
    "# YOUR CODE HERE\n",
    "#raise NotImplementedError()"
   ]
  },
  {
   "cell_type": "code",
   "execution_count": 10,
   "metadata": {},
   "outputs": [
    {
     "data": {
      "text/plain": [
       "Index(['Barcelona', 'Benfica', 'Juventus', 'PSG', 'Manchester City'], dtype='object')"
      ]
     },
     "execution_count": 10,
     "metadata": {},
     "output_type": "execute_result"
    }
   ],
   "source": [
    "# run this cell to see the results \n",
    "index_series"
   ]
  },
  {
   "cell_type": "code",
   "execution_count": 11,
   "metadata": {},
   "outputs": [],
   "source": [
    "assert (isinstance(index_series, pd.core.indexes.base.Index))\n",
    "assert(len(index_series==5))\n",
    "assert(index_series[2] == 'Juventus')"
   ]
  },
  {
   "cell_type": "markdown",
   "metadata": {},
   "source": [
    "## Exercise 2: DataFrames\n",
    "\n",
    "In this exercise the goal is to create a simple DataFrame."
   ]
  },
  {
   "cell_type": "markdown",
   "metadata": {},
   "source": [
    "#### 2.1) Create a DataFrame with FootballClub/Country/TotalMarketValue columns"
   ]
  },
  {
   "cell_type": "code",
   "execution_count": 12,
   "metadata": {},
   "outputs": [],
   "source": [
    "# Create a dataframe with 3 columns: FootballClub, Country, TotalMarketValue. \n",
    "# Let pandas create the index itself\n",
    "# Make sure the columns are in the right order \n",
    "# winners_2019 must be the name of the final dataframe.\n",
    "\n",
    "football_clubs_list = ['Barcelona', 'Benfica', 'Juventus', 'PSG', 'Manchester City']\n",
    "\n",
    "country_list = ['Spain', 'Portugal', 'Italy', 'France', 'England']\n",
    "\n",
    "totalmarketvalue_list = [1070.0, 365.50, 745.50, 922.25, 1170.0]\n",
    "\n",
    "# in one line, build the dataframe, using a dictionary to tell it what should be the column names\n",
    "# remember to give the columns the right names, or it won't pass the asserts\n",
    "winners_2019 = pd.DataFrame(data = {'FootballClub': football_clubs_list, 'Country': country_list, 'TotalMarketValue': totalmarketvalue_list})\n",
    "\n",
    "\n",
    "# YOUR CODE HERE\n",
    "#raise NotImplementedError()"
   ]
  },
  {
   "cell_type": "code",
   "execution_count": 13,
   "metadata": {},
   "outputs": [
    {
     "data": {
      "text/html": [
       "<div>\n",
       "<style scoped>\n",
       "    .dataframe tbody tr th:only-of-type {\n",
       "        vertical-align: middle;\n",
       "    }\n",
       "\n",
       "    .dataframe tbody tr th {\n",
       "        vertical-align: top;\n",
       "    }\n",
       "\n",
       "    .dataframe thead th {\n",
       "        text-align: right;\n",
       "    }\n",
       "</style>\n",
       "<table border=\"1\" class=\"dataframe\">\n",
       "  <thead>\n",
       "    <tr style=\"text-align: right;\">\n",
       "      <th></th>\n",
       "      <th>FootballClub</th>\n",
       "      <th>Country</th>\n",
       "      <th>TotalMarketValue</th>\n",
       "    </tr>\n",
       "  </thead>\n",
       "  <tbody>\n",
       "    <tr>\n",
       "      <th>0</th>\n",
       "      <td>Barcelona</td>\n",
       "      <td>Spain</td>\n",
       "      <td>1070.00</td>\n",
       "    </tr>\n",
       "    <tr>\n",
       "      <th>1</th>\n",
       "      <td>Benfica</td>\n",
       "      <td>Portugal</td>\n",
       "      <td>365.50</td>\n",
       "    </tr>\n",
       "    <tr>\n",
       "      <th>2</th>\n",
       "      <td>Juventus</td>\n",
       "      <td>Italy</td>\n",
       "      <td>745.50</td>\n",
       "    </tr>\n",
       "    <tr>\n",
       "      <th>3</th>\n",
       "      <td>PSG</td>\n",
       "      <td>France</td>\n",
       "      <td>922.25</td>\n",
       "    </tr>\n",
       "    <tr>\n",
       "      <th>4</th>\n",
       "      <td>Manchester City</td>\n",
       "      <td>England</td>\n",
       "      <td>1170.00</td>\n",
       "    </tr>\n",
       "  </tbody>\n",
       "</table>\n",
       "</div>"
      ],
      "text/plain": [
       "      FootballClub   Country  TotalMarketValue\n",
       "0        Barcelona     Spain           1070.00\n",
       "1          Benfica  Portugal            365.50\n",
       "2         Juventus     Italy            745.50\n",
       "3              PSG    France            922.25\n",
       "4  Manchester City   England           1170.00"
      ]
     },
     "execution_count": 13,
     "metadata": {},
     "output_type": "execute_result"
    }
   ],
   "source": [
    "# The expected output is a dataframe with columns named\n",
    "# \"FootballClub\", \"Country\" and \"TotalMarketValue\", indexed from 0 to 4.\n",
    "winners_2019"
   ]
  },
  {
   "cell_type": "code",
   "execution_count": 14,
   "metadata": {},
   "outputs": [],
   "source": [
    "assert(isinstance(winners_2019, pd.DataFrame))\n",
    "assert(winners_2019.shape == (5, 3))\n",
    "assert(winners_2019.iloc[3, 1] == 'France')\n",
    "assert(winners_2019.columns[2] == 'TotalMarketValue')"
   ]
  },
  {
   "cell_type": "markdown",
   "metadata": {},
   "source": [
    "#### 2.2) Create a DataFrame with the Country/TotalMarketValue columns, but with FootballClub as row indexes"
   ]
  },
  {
   "cell_type": "code",
   "execution_count": 15,
   "metadata": {},
   "outputs": [],
   "source": [
    "# Create a dataframe with columns Country and TotalMarketValue (in that order), but use FootballClub as index\n",
    "# winners_2019_ind must be the name of the final dataframe.\n",
    "\n",
    "football_clubs_list = ['Barcelona', 'Benfica', 'Juventus', 'PSG', 'Manchester City']\n",
    "\n",
    "country_list = ['Spain', 'Portugal', 'Italy', 'France', 'England']\n",
    "\n",
    "totalmarketvalue_list = [1070.0, 365.50, 745.50, 922.25, 1170.0]\n",
    "\n",
    "# Use the lists to create Series for Country and TotalMarketValue\n",
    "# Hint: use the argument index\n",
    "\n",
    "country_series = pd.Series(country_list, index= football_clubs_list)\n",
    "\n",
    "totalmarketvalue_series = pd.Series(totalmarketvalue_list, index= football_clubs_list)\n",
    "\n",
    "# Finally create the DataFrame, using a dictionary. This should only be 1 line of code. \n",
    "\n",
    "winners_2019_ind = pd.DataFrame({'Country': country_series, 'TotalMarketValue': totalmarketvalue_series})\n",
    "\n",
    "# YOUR CODE HERE\n",
    "#raise NotImplementedError()"
   ]
  },
  {
   "cell_type": "code",
   "execution_count": 16,
   "metadata": {},
   "outputs": [
    {
     "data": {
      "text/html": [
       "<div>\n",
       "<style scoped>\n",
       "    .dataframe tbody tr th:only-of-type {\n",
       "        vertical-align: middle;\n",
       "    }\n",
       "\n",
       "    .dataframe tbody tr th {\n",
       "        vertical-align: top;\n",
       "    }\n",
       "\n",
       "    .dataframe thead th {\n",
       "        text-align: right;\n",
       "    }\n",
       "</style>\n",
       "<table border=\"1\" class=\"dataframe\">\n",
       "  <thead>\n",
       "    <tr style=\"text-align: right;\">\n",
       "      <th></th>\n",
       "      <th>Country</th>\n",
       "      <th>TotalMarketValue</th>\n",
       "    </tr>\n",
       "  </thead>\n",
       "  <tbody>\n",
       "    <tr>\n",
       "      <th>Barcelona</th>\n",
       "      <td>Spain</td>\n",
       "      <td>1070.00</td>\n",
       "    </tr>\n",
       "    <tr>\n",
       "      <th>Benfica</th>\n",
       "      <td>Portugal</td>\n",
       "      <td>365.50</td>\n",
       "    </tr>\n",
       "    <tr>\n",
       "      <th>Juventus</th>\n",
       "      <td>Italy</td>\n",
       "      <td>745.50</td>\n",
       "    </tr>\n",
       "    <tr>\n",
       "      <th>PSG</th>\n",
       "      <td>France</td>\n",
       "      <td>922.25</td>\n",
       "    </tr>\n",
       "    <tr>\n",
       "      <th>Manchester City</th>\n",
       "      <td>England</td>\n",
       "      <td>1170.00</td>\n",
       "    </tr>\n",
       "  </tbody>\n",
       "</table>\n",
       "</div>"
      ],
      "text/plain": [
       "                  Country  TotalMarketValue\n",
       "Barcelona           Spain           1070.00\n",
       "Benfica          Portugal            365.50\n",
       "Juventus            Italy            745.50\n",
       "PSG                France            922.25\n",
       "Manchester City   England           1170.00"
      ]
     },
     "execution_count": 16,
     "metadata": {},
     "output_type": "execute_result"
    }
   ],
   "source": [
    "# run this cell to see the results \n",
    "# The expected output is a dataframe with columns named \"Country\", \"TotalMarketValue\", indexed with the correct football clubs.\n",
    "winners_2019_ind"
   ]
  },
  {
   "cell_type": "code",
   "execution_count": 17,
   "metadata": {},
   "outputs": [],
   "source": [
    "assert(isinstance(winners_2019_ind, pd.DataFrame))\n",
    "assert(winners_2019_ind.shape == (5, 2))\n",
    "assert(winners_2019_ind.index[3] == 'PSG')\n",
    "assert(winners_2019_ind.columns[1] == 'TotalMarketValue')\n",
    "backup_winners_2019_ind = winners_2019_ind.copy()"
   ]
  },
  {
   "cell_type": "markdown",
   "metadata": {},
   "source": [
    "## Exercise 3: Load the zomato dataset\n",
    "\n",
    "\n",
    "In this exercise you will load the zomato data set.\n",
    "\n",
    "You will then preview it and retrieve some information."
   ]
  },
  {
   "cell_type": "markdown",
   "metadata": {},
   "source": [
    "#### 3.1) Load the data set"
   ]
  },
  {
   "cell_type": "code",
   "execution_count": 18,
   "metadata": {},
   "outputs": [],
   "source": [
    "# Load the zomato data set\n",
    "# it is located locally at: data/zomato_restaurants.csv\n",
    "# it is located remotely at: https://raw.githubusercontent.com/vohcolab/PandaViz-Workshop/main/Pandas/Pandas%20101/data/zomato_restaurants.csv\n",
    "\n",
    "# I chose remote path in order to work in colab notebooks\n",
    "data_path = \"https://raw.githubusercontent.com/vohcolab/PandaViz-Workshop/main/Pandas/Pandas%20101/data/zomato_restaurants.csv\"\n",
    "zomato_df = pd.read_csv(data_path)\n",
    "\n",
    "# YOUR CODE HERE\n",
    "#raise NotImplementedError()"
   ]
  },
  {
   "cell_type": "code",
   "execution_count": 19,
   "metadata": {},
   "outputs": [
    {
     "data": {
      "text/html": [
       "<div>\n",
       "<style scoped>\n",
       "    .dataframe tbody tr th:only-of-type {\n",
       "        vertical-align: middle;\n",
       "    }\n",
       "\n",
       "    .dataframe tbody tr th {\n",
       "        vertical-align: top;\n",
       "    }\n",
       "\n",
       "    .dataframe thead th {\n",
       "        text-align: right;\n",
       "    }\n",
       "</style>\n",
       "<table border=\"1\" class=\"dataframe\">\n",
       "  <thead>\n",
       "    <tr style=\"text-align: right;\">\n",
       "      <th></th>\n",
       "      <th>id</th>\n",
       "      <th>name</th>\n",
       "      <th>locality</th>\n",
       "      <th>city</th>\n",
       "      <th>cuisines</th>\n",
       "      <th>establishment</th>\n",
       "      <th>average_cost_for_two</th>\n",
       "      <th>all_reviews_count</th>\n",
       "      <th>photo_count</th>\n",
       "      <th>has_table_booking</th>\n",
       "      <th>has_online_delivery</th>\n",
       "      <th>aggregate_rating</th>\n",
       "      <th>votes</th>\n",
       "      <th>timings</th>\n",
       "    </tr>\n",
       "  </thead>\n",
       "  <tbody>\n",
       "    <tr>\n",
       "      <th>0</th>\n",
       "      <td>18487870</td>\n",
       "      <td>Boa-Bao</td>\n",
       "      <td>Chiado</td>\n",
       "      <td>Lisboa</td>\n",
       "      <td>Oriental, Thai, Malaysian, Filipino, Vietnames...</td>\n",
       "      <td>Casual Dining</td>\n",
       "      <td>40</td>\n",
       "      <td>1521</td>\n",
       "      <td>3733</td>\n",
       "      <td>0</td>\n",
       "      <td>0</td>\n",
       "      <td>4.9</td>\n",
       "      <td>3943</td>\n",
       "      <td>12:00 a 23:00 (Seg, Ter, Qua, Qui, Dom), 12:00...</td>\n",
       "    </tr>\n",
       "    <tr>\n",
       "      <th>1</th>\n",
       "      <td>18550207</td>\n",
       "      <td>SOI</td>\n",
       "      <td>Cais do Sodré</td>\n",
       "      <td>Lisboa</td>\n",
       "      <td>Chinese, Oriental, Japanese, Vietnamese, Korea...</td>\n",
       "      <td>Casual Dining</td>\n",
       "      <td>45</td>\n",
       "      <td>480</td>\n",
       "      <td>1363</td>\n",
       "      <td>0</td>\n",
       "      <td>0</td>\n",
       "      <td>4.3</td>\n",
       "      <td>1168</td>\n",
       "      <td>12 Noon to 12 Midnight (Mon-Thu, Sun), 12 Noon...</td>\n",
       "    </tr>\n",
       "    <tr>\n",
       "      <th>2</th>\n",
       "      <td>8212998</td>\n",
       "      <td>Ground Burger</td>\n",
       "      <td>Praça de Espanha</td>\n",
       "      <td>Lisboa</td>\n",
       "      <td>Burger, American</td>\n",
       "      <td>Casual Dining</td>\n",
       "      <td>40</td>\n",
       "      <td>1430</td>\n",
       "      <td>2337</td>\n",
       "      <td>0</td>\n",
       "      <td>0</td>\n",
       "      <td>4.5</td>\n",
       "      <td>3000</td>\n",
       "      <td>12 Noon a 12 Midnight</td>\n",
       "    </tr>\n",
       "    <tr>\n",
       "      <th>3</th>\n",
       "      <td>18301225</td>\n",
       "      <td>Amaterasu Pateo do Sushi</td>\n",
       "      <td>Algés</td>\n",
       "      <td>Lisboa</td>\n",
       "      <td>Sushi, Japanese</td>\n",
       "      <td>Casual Dining</td>\n",
       "      <td>40</td>\n",
       "      <td>676</td>\n",
       "      <td>1094</td>\n",
       "      <td>0</td>\n",
       "      <td>0</td>\n",
       "      <td>4.5</td>\n",
       "      <td>1615</td>\n",
       "      <td>12:00 a 15:30, 19:00 a 23:30 (Seg-Dom)</td>\n",
       "    </tr>\n",
       "    <tr>\n",
       "      <th>4</th>\n",
       "      <td>18605050</td>\n",
       "      <td>Contrabando</td>\n",
       "      <td>Santos</td>\n",
       "      <td>Lisboa</td>\n",
       "      <td>American, Latin American, BBQ, Steak</td>\n",
       "      <td>Casual Dining</td>\n",
       "      <td>30</td>\n",
       "      <td>372</td>\n",
       "      <td>1117</td>\n",
       "      <td>1</td>\n",
       "      <td>0</td>\n",
       "      <td>4.3</td>\n",
       "      <td>869</td>\n",
       "      <td>Seg-Qui, Dom (12 Noon to 11:59 PM), Sex-Sáb (1...</td>\n",
       "    </tr>\n",
       "  </tbody>\n",
       "</table>\n",
       "</div>"
      ],
      "text/plain": [
       "         id                      name          locality    city  \\\n",
       "0  18487870                   Boa-Bao            Chiado  Lisboa   \n",
       "1  18550207                       SOI     Cais do Sodré  Lisboa   \n",
       "2   8212998             Ground Burger  Praça de Espanha  Lisboa   \n",
       "3  18301225  Amaterasu Pateo do Sushi             Algés  Lisboa   \n",
       "4  18605050               Contrabando            Santos  Lisboa   \n",
       "\n",
       "                                            cuisines  establishment  \\\n",
       "0  Oriental, Thai, Malaysian, Filipino, Vietnames...  Casual Dining   \n",
       "1  Chinese, Oriental, Japanese, Vietnamese, Korea...  Casual Dining   \n",
       "2                                   Burger, American  Casual Dining   \n",
       "3                                    Sushi, Japanese  Casual Dining   \n",
       "4               American, Latin American, BBQ, Steak  Casual Dining   \n",
       "\n",
       "   average_cost_for_two  all_reviews_count  photo_count  has_table_booking  \\\n",
       "0                    40               1521         3733                  0   \n",
       "1                    45                480         1363                  0   \n",
       "2                    40               1430         2337                  0   \n",
       "3                    40                676         1094                  0   \n",
       "4                    30                372         1117                  1   \n",
       "\n",
       "   has_online_delivery  aggregate_rating  votes  \\\n",
       "0                    0               4.9   3943   \n",
       "1                    0               4.3   1168   \n",
       "2                    0               4.5   3000   \n",
       "3                    0               4.5   1615   \n",
       "4                    0               4.3    869   \n",
       "\n",
       "                                             timings  \n",
       "0  12:00 a 23:00 (Seg, Ter, Qua, Qui, Dom), 12:00...  \n",
       "1  12 Noon to 12 Midnight (Mon-Thu, Sun), 12 Noon...  \n",
       "2                              12 Noon a 12 Midnight  \n",
       "3             12:00 a 15:30, 19:00 a 23:30 (Seg-Dom)  \n",
       "4  Seg-Qui, Dom (12 Noon to 11:59 PM), Sex-Sáb (1...  "
      ]
     },
     "execution_count": 19,
     "metadata": {},
     "output_type": "execute_result"
    }
   ],
   "source": [
    "# print head it to get an idea of what you've just loaded \n",
    "zomato_df.head()"
   ]
  },
  {
   "cell_type": "code",
   "execution_count": 20,
   "metadata": {},
   "outputs": [],
   "source": [
    "assert(isinstance(zomato_df, pd.DataFrame))\n",
    "assert(zomato_df.shape == (600, 14))"
   ]
  },
  {
   "cell_type": "markdown",
   "metadata": {},
   "source": [
    "#### 3.2) Set an index"
   ]
  },
  {
   "cell_type": "code",
   "execution_count": 21,
   "metadata": {},
   "outputs": [],
   "source": [
    "# set the index the \"id\" column \n",
    "\n",
    "# (check the documentatio: https://pandas.pydata.org/pandas-docs/stable/reference/api/pandas.read_csv.html)\n",
    "\n",
    "zomato_df_ind = zomato_df.set_index('id')\n",
    "\n",
    "# YOUR CODE HERE\n",
    "#raise NotImplementedError()"
   ]
  },
  {
   "cell_type": "code",
   "execution_count": 22,
   "metadata": {},
   "outputs": [
    {
     "data": {
      "text/html": [
       "<div>\n",
       "<style scoped>\n",
       "    .dataframe tbody tr th:only-of-type {\n",
       "        vertical-align: middle;\n",
       "    }\n",
       "\n",
       "    .dataframe tbody tr th {\n",
       "        vertical-align: top;\n",
       "    }\n",
       "\n",
       "    .dataframe thead th {\n",
       "        text-align: right;\n",
       "    }\n",
       "</style>\n",
       "<table border=\"1\" class=\"dataframe\">\n",
       "  <thead>\n",
       "    <tr style=\"text-align: right;\">\n",
       "      <th></th>\n",
       "      <th>name</th>\n",
       "      <th>locality</th>\n",
       "      <th>city</th>\n",
       "      <th>cuisines</th>\n",
       "      <th>establishment</th>\n",
       "      <th>average_cost_for_two</th>\n",
       "      <th>all_reviews_count</th>\n",
       "      <th>photo_count</th>\n",
       "      <th>has_table_booking</th>\n",
       "      <th>has_online_delivery</th>\n",
       "      <th>aggregate_rating</th>\n",
       "      <th>votes</th>\n",
       "      <th>timings</th>\n",
       "    </tr>\n",
       "    <tr>\n",
       "      <th>id</th>\n",
       "      <th></th>\n",
       "      <th></th>\n",
       "      <th></th>\n",
       "      <th></th>\n",
       "      <th></th>\n",
       "      <th></th>\n",
       "      <th></th>\n",
       "      <th></th>\n",
       "      <th></th>\n",
       "      <th></th>\n",
       "      <th></th>\n",
       "      <th></th>\n",
       "      <th></th>\n",
       "    </tr>\n",
       "  </thead>\n",
       "  <tbody>\n",
       "    <tr>\n",
       "      <th>18487870</th>\n",
       "      <td>Boa-Bao</td>\n",
       "      <td>Chiado</td>\n",
       "      <td>Lisboa</td>\n",
       "      <td>Oriental, Thai, Malaysian, Filipino, Vietnames...</td>\n",
       "      <td>Casual Dining</td>\n",
       "      <td>40</td>\n",
       "      <td>1521</td>\n",
       "      <td>3733</td>\n",
       "      <td>0</td>\n",
       "      <td>0</td>\n",
       "      <td>4.9</td>\n",
       "      <td>3943</td>\n",
       "      <td>12:00 a 23:00 (Seg, Ter, Qua, Qui, Dom), 12:00...</td>\n",
       "    </tr>\n",
       "    <tr>\n",
       "      <th>18550207</th>\n",
       "      <td>SOI</td>\n",
       "      <td>Cais do Sodré</td>\n",
       "      <td>Lisboa</td>\n",
       "      <td>Chinese, Oriental, Japanese, Vietnamese, Korea...</td>\n",
       "      <td>Casual Dining</td>\n",
       "      <td>45</td>\n",
       "      <td>480</td>\n",
       "      <td>1363</td>\n",
       "      <td>0</td>\n",
       "      <td>0</td>\n",
       "      <td>4.3</td>\n",
       "      <td>1168</td>\n",
       "      <td>12 Noon to 12 Midnight (Mon-Thu, Sun), 12 Noon...</td>\n",
       "    </tr>\n",
       "    <tr>\n",
       "      <th>8212998</th>\n",
       "      <td>Ground Burger</td>\n",
       "      <td>Praça de Espanha</td>\n",
       "      <td>Lisboa</td>\n",
       "      <td>Burger, American</td>\n",
       "      <td>Casual Dining</td>\n",
       "      <td>40</td>\n",
       "      <td>1430</td>\n",
       "      <td>2337</td>\n",
       "      <td>0</td>\n",
       "      <td>0</td>\n",
       "      <td>4.5</td>\n",
       "      <td>3000</td>\n",
       "      <td>12 Noon a 12 Midnight</td>\n",
       "    </tr>\n",
       "    <tr>\n",
       "      <th>18301225</th>\n",
       "      <td>Amaterasu Pateo do Sushi</td>\n",
       "      <td>Algés</td>\n",
       "      <td>Lisboa</td>\n",
       "      <td>Sushi, Japanese</td>\n",
       "      <td>Casual Dining</td>\n",
       "      <td>40</td>\n",
       "      <td>676</td>\n",
       "      <td>1094</td>\n",
       "      <td>0</td>\n",
       "      <td>0</td>\n",
       "      <td>4.5</td>\n",
       "      <td>1615</td>\n",
       "      <td>12:00 a 15:30, 19:00 a 23:30 (Seg-Dom)</td>\n",
       "    </tr>\n",
       "    <tr>\n",
       "      <th>18605050</th>\n",
       "      <td>Contrabando</td>\n",
       "      <td>Santos</td>\n",
       "      <td>Lisboa</td>\n",
       "      <td>American, Latin American, BBQ, Steak</td>\n",
       "      <td>Casual Dining</td>\n",
       "      <td>30</td>\n",
       "      <td>372</td>\n",
       "      <td>1117</td>\n",
       "      <td>1</td>\n",
       "      <td>0</td>\n",
       "      <td>4.3</td>\n",
       "      <td>869</td>\n",
       "      <td>Seg-Qui, Dom (12 Noon to 11:59 PM), Sex-Sáb (1...</td>\n",
       "    </tr>\n",
       "  </tbody>\n",
       "</table>\n",
       "</div>"
      ],
      "text/plain": [
       "                              name          locality    city  \\\n",
       "id                                                             \n",
       "18487870                   Boa-Bao            Chiado  Lisboa   \n",
       "18550207                       SOI     Cais do Sodré  Lisboa   \n",
       "8212998              Ground Burger  Praça de Espanha  Lisboa   \n",
       "18301225  Amaterasu Pateo do Sushi             Algés  Lisboa   \n",
       "18605050               Contrabando            Santos  Lisboa   \n",
       "\n",
       "                                                   cuisines  establishment  \\\n",
       "id                                                                           \n",
       "18487870  Oriental, Thai, Malaysian, Filipino, Vietnames...  Casual Dining   \n",
       "18550207  Chinese, Oriental, Japanese, Vietnamese, Korea...  Casual Dining   \n",
       "8212998                                    Burger, American  Casual Dining   \n",
       "18301225                                    Sushi, Japanese  Casual Dining   \n",
       "18605050               American, Latin American, BBQ, Steak  Casual Dining   \n",
       "\n",
       "          average_cost_for_two  all_reviews_count  photo_count  \\\n",
       "id                                                               \n",
       "18487870                    40               1521         3733   \n",
       "18550207                    45                480         1363   \n",
       "8212998                     40               1430         2337   \n",
       "18301225                    40                676         1094   \n",
       "18605050                    30                372         1117   \n",
       "\n",
       "          has_table_booking  has_online_delivery  aggregate_rating  votes  \\\n",
       "id                                                                          \n",
       "18487870                  0                    0               4.9   3943   \n",
       "18550207                  0                    0               4.3   1168   \n",
       "8212998                   0                    0               4.5   3000   \n",
       "18301225                  0                    0               4.5   1615   \n",
       "18605050                  1                    0               4.3    869   \n",
       "\n",
       "                                                    timings  \n",
       "id                                                           \n",
       "18487870  12:00 a 23:00 (Seg, Ter, Qua, Qui, Dom), 12:00...  \n",
       "18550207  12 Noon to 12 Midnight (Mon-Thu, Sun), 12 Noon...  \n",
       "8212998                               12 Noon a 12 Midnight  \n",
       "18301225             12:00 a 15:30, 19:00 a 23:30 (Seg-Dom)  \n",
       "18605050  Seg-Qui, Dom (12 Noon to 11:59 PM), Sex-Sáb (1...  "
      ]
     },
     "execution_count": 22,
     "metadata": {},
     "output_type": "execute_result"
    }
   ],
   "source": [
    "# print head it to get an idea of what you've just loaded \n",
    "zomato_df_ind.head()"
   ]
  },
  {
   "cell_type": "code",
   "execution_count": 23,
   "metadata": {},
   "outputs": [],
   "source": [
    "assert(isinstance(zomato_df_ind, pd.DataFrame))\n",
    "assert(zomato_df_ind.shape == (600, 13))"
   ]
  },
  {
   "cell_type": "markdown",
   "metadata": {},
   "source": [
    "#### 3.3) Get general information about the dataframe"
   ]
  },
  {
   "cell_type": "code",
   "execution_count": 24,
   "metadata": {},
   "outputs": [
    {
     "name": "stdout",
     "output_type": "stream",
     "text": [
      "<class 'pandas.core.frame.DataFrame'>\n",
      "Int64Index: 600 entries, 18487870 to 17877644\n",
      "Data columns (total 13 columns):\n",
      " #   Column                Non-Null Count  Dtype  \n",
      "---  ------                --------------  -----  \n",
      " 0   name                  600 non-null    object \n",
      " 1   locality              600 non-null    object \n",
      " 2   city                  600 non-null    object \n",
      " 3   cuisines              596 non-null    object \n",
      " 4   establishment         517 non-null    object \n",
      " 5   average_cost_for_two  600 non-null    int64  \n",
      " 6   all_reviews_count     600 non-null    int64  \n",
      " 7   photo_count           600 non-null    int64  \n",
      " 8   has_table_booking     600 non-null    int64  \n",
      " 9   has_online_delivery   600 non-null    int64  \n",
      " 10  aggregate_rating      600 non-null    float64\n",
      " 11  votes                 600 non-null    int64  \n",
      " 12  timings               572 non-null    object \n",
      "dtypes: float64(1), int64(6), object(6)\n",
      "memory usage: 65.6+ KB\n"
     ]
    }
   ],
   "source": [
    "# Print zomato_df_ind info\n",
    "# reminder: jupyter just prints out the last output, \n",
    "# so you don't need to use a print statement\n",
    "\n",
    "zomato_df_ind.info()\n",
    "\n",
    "# YOUR CODE HERE\n",
    "#raise NotImplementedError()"
   ]
  },
  {
   "cell_type": "code",
   "execution_count": 25,
   "metadata": {},
   "outputs": [],
   "source": [
    "# How many columns of type \"int\" exists?\n",
    "\n",
    "count_int = 6\n",
    "\n",
    "# YOUR CODE HERE\n",
    "#raise NotImplementedError()"
   ]
  },
  {
   "cell_type": "code",
   "execution_count": 26,
   "metadata": {},
   "outputs": [],
   "source": [
    "hash_count = 'e7f6c011776e8db7cd330b54174fd76f7d0216b612387a5ffcfb81e6f0919683'\n",
    "\n",
    "assert (hash_count == sha256(str(count_int).encode()).hexdigest())   "
   ]
  },
  {
   "cell_type": "markdown",
   "metadata": {},
   "source": [
    "#### 3.4) Preview the top 7 entries"
   ]
  },
  {
   "cell_type": "code",
   "execution_count": 27,
   "metadata": {},
   "outputs": [],
   "source": [
    "# Print the top 7 entries of zomato_df_ind\n",
    "\n",
    "zomato_df_ind_top = zomato_df_ind.head(7)\n",
    "\n",
    "# YOUR CODE HERE\n",
    "#raise NotImplementedError()"
   ]
  },
  {
   "cell_type": "code",
   "execution_count": 28,
   "metadata": {},
   "outputs": [],
   "source": [
    "assert (zomato_df_ind_top.shape == (7,13))"
   ]
  },
  {
   "cell_type": "markdown",
   "metadata": {},
   "source": [
    "#### 3.5) Preview the bottom 3 entries"
   ]
  },
  {
   "cell_type": "code",
   "execution_count": 29,
   "metadata": {},
   "outputs": [],
   "source": [
    "# Print the bottom 3 entries of zomato_df_ind\n",
    "\n",
    "zomato_df_ind_bottom = zomato_df_ind.tail(3)\n",
    "\n",
    "# YOUR CODE HERE\n",
    "#raise NotImplementedError()"
   ]
  },
  {
   "cell_type": "code",
   "execution_count": 30,
   "metadata": {},
   "outputs": [],
   "source": [
    "assert (zomato_df_ind_bottom.shape == (3,13))"
   ]
  },
  {
   "cell_type": "markdown",
   "metadata": {},
   "source": [
    "#### 3.6) Use a method to determine all the types of data in zomato_df_ind"
   ]
  },
  {
   "cell_type": "code",
   "execution_count": 31,
   "metadata": {},
   "outputs": [
    {
     "data": {
      "text/plain": [
       "name                     object\n",
       "locality                 object\n",
       "city                     object\n",
       "cuisines                 object\n",
       "establishment            object\n",
       "average_cost_for_two      int64\n",
       "all_reviews_count         int64\n",
       "photo_count               int64\n",
       "has_table_booking         int64\n",
       "has_online_delivery       int64\n",
       "aggregate_rating        float64\n",
       "votes                     int64\n",
       "timings                  object\n",
       "dtype: object"
      ]
     },
     "execution_count": 31,
     "metadata": {},
     "output_type": "execute_result"
    }
   ],
   "source": [
    "# Print the type of data in zomato_df_ind\n",
    "\n",
    "# YOUR CODE HERE\n",
    "\n",
    "zomato_df_ind.dtypes\n",
    "#raise NotImplementedError()"
   ]
  },
  {
   "cell_type": "markdown",
   "metadata": {},
   "source": [
    "#### 3.7) Print the number of rows and the number of columns"
   ]
  },
  {
   "cell_type": "code",
   "execution_count": 32,
   "metadata": {},
   "outputs": [
    {
     "name": "stdout",
     "output_type": "stream",
     "text": [
      "There are 600 rows and 13 columns.\n"
     ]
    }
   ],
   "source": [
    "# Get the nr_rows and nr_cols from zomato_df_ind, using a method\n",
    "\n",
    "nr_rows = zomato_df_ind.shape[0]\n",
    "nr_cols = zomato_df_ind.shape[1]\n",
    "\n",
    "# YOUR CODE HERE\n",
    "#raise NotImplementedError()\n",
    "\n",
    "print(\"There are {} rows and {} columns.\".format(nr_rows, nr_cols))"
   ]
  },
  {
   "cell_type": "code",
   "execution_count": 33,
   "metadata": {},
   "outputs": [],
   "source": [
    "assert (nr_rows == 600 )\n",
    "assert (nr_cols == 13 )"
   ]
  },
  {
   "cell_type": "markdown",
   "metadata": {},
   "source": [
    "#### 3.8) Get the array of column names"
   ]
  },
  {
   "cell_type": "code",
   "execution_count": 34,
   "metadata": {},
   "outputs": [],
   "source": [
    "# Create an array with the column names of zomato_df_ind.\n",
    "# there is, as always, a method for this \n",
    "\n",
    "zomato_df_columns = zomato_df_ind.columns\n",
    "\n",
    "# YOUR CODE HERE\n",
    "#raise NotImplementedError()"
   ]
  },
  {
   "cell_type": "code",
   "execution_count": 35,
   "metadata": {},
   "outputs": [
    {
     "name": "stdout",
     "output_type": "stream",
     "text": [
      "Index(['name', 'locality', 'city', 'cuisines', 'establishment',\n",
      "       'average_cost_for_two', 'all_reviews_count', 'photo_count',\n",
      "       'has_table_booking', 'has_online_delivery', 'aggregate_rating', 'votes',\n",
      "       'timings'],\n",
      "      dtype='object')\n"
     ]
    }
   ],
   "source": [
    "print(zomato_df_columns)"
   ]
  },
  {
   "cell_type": "markdown",
   "metadata": {},
   "source": [
    "The expected output is an array with 'name', 'locality', 'city', 'cuisines', 'establishment','average_cost_for_two', 'all_reviews_count', 'photo_count', 'has_table_booking', 'has_online_delivery', 'aggregate_rating', 'votes','timings'."
   ]
  },
  {
   "cell_type": "code",
   "execution_count": 36,
   "metadata": {},
   "outputs": [],
   "source": [
    "assert (zomato_df_columns[1] == 'locality' )\n",
    "assert (len(zomato_df_columns) == 13)"
   ]
  },
  {
   "cell_type": "markdown",
   "metadata": {},
   "source": [
    "#### 3.9) Making use of describe() what is the standard deviation value of the votes?"
   ]
  },
  {
   "cell_type": "code",
   "execution_count": 37,
   "metadata": {},
   "outputs": [
    {
     "data": {
      "text/html": [
       "<div>\n",
       "<style scoped>\n",
       "    .dataframe tbody tr th:only-of-type {\n",
       "        vertical-align: middle;\n",
       "    }\n",
       "\n",
       "    .dataframe tbody tr th {\n",
       "        vertical-align: top;\n",
       "    }\n",
       "\n",
       "    .dataframe thead th {\n",
       "        text-align: right;\n",
       "    }\n",
       "</style>\n",
       "<table border=\"1\" class=\"dataframe\">\n",
       "  <thead>\n",
       "    <tr style=\"text-align: right;\">\n",
       "      <th></th>\n",
       "      <th>average_cost_for_two</th>\n",
       "      <th>all_reviews_count</th>\n",
       "      <th>photo_count</th>\n",
       "      <th>has_table_booking</th>\n",
       "      <th>has_online_delivery</th>\n",
       "      <th>aggregate_rating</th>\n",
       "      <th>votes</th>\n",
       "    </tr>\n",
       "  </thead>\n",
       "  <tbody>\n",
       "    <tr>\n",
       "      <th>count</th>\n",
       "      <td>600.000000</td>\n",
       "      <td>600.000000</td>\n",
       "      <td>600.000000</td>\n",
       "      <td>600.000000</td>\n",
       "      <td>600.000000</td>\n",
       "      <td>600.000000</td>\n",
       "      <td>600.000000</td>\n",
       "    </tr>\n",
       "    <tr>\n",
       "      <th>mean</th>\n",
       "      <td>2327.295000</td>\n",
       "      <td>170.311667</td>\n",
       "      <td>450.480000</td>\n",
       "      <td>0.118333</td>\n",
       "      <td>0.120000</td>\n",
       "      <td>3.910667</td>\n",
       "      <td>367.405000</td>\n",
       "    </tr>\n",
       "    <tr>\n",
       "      <th>std</th>\n",
       "      <td>7716.362878</td>\n",
       "      <td>258.212511</td>\n",
       "      <td>621.216338</td>\n",
       "      <td>0.323272</td>\n",
       "      <td>0.325233</td>\n",
       "      <td>1.263836</td>\n",
       "      <td>594.930687</td>\n",
       "    </tr>\n",
       "    <tr>\n",
       "      <th>min</th>\n",
       "      <td>0.000000</td>\n",
       "      <td>0.000000</td>\n",
       "      <td>0.000000</td>\n",
       "      <td>0.000000</td>\n",
       "      <td>0.000000</td>\n",
       "      <td>0.000000</td>\n",
       "      <td>0.000000</td>\n",
       "    </tr>\n",
       "    <tr>\n",
       "      <th>25%</th>\n",
       "      <td>20.000000</td>\n",
       "      <td>5.000000</td>\n",
       "      <td>12.750000</td>\n",
       "      <td>0.000000</td>\n",
       "      <td>0.000000</td>\n",
       "      <td>3.900000</td>\n",
       "      <td>12.750000</td>\n",
       "    </tr>\n",
       "    <tr>\n",
       "      <th>50%</th>\n",
       "      <td>40.000000</td>\n",
       "      <td>78.000000</td>\n",
       "      <td>223.000000</td>\n",
       "      <td>0.000000</td>\n",
       "      <td>0.000000</td>\n",
       "      <td>4.300000</td>\n",
       "      <td>143.500000</td>\n",
       "    </tr>\n",
       "    <tr>\n",
       "      <th>75%</th>\n",
       "      <td>100.000000</td>\n",
       "      <td>241.250000</td>\n",
       "      <td>616.750000</td>\n",
       "      <td>0.000000</td>\n",
       "      <td>0.000000</td>\n",
       "      <td>4.500000</td>\n",
       "      <td>461.750000</td>\n",
       "    </tr>\n",
       "    <tr>\n",
       "      <th>max</th>\n",
       "      <td>50000.000000</td>\n",
       "      <td>2640.000000</td>\n",
       "      <td>4464.000000</td>\n",
       "      <td>1.000000</td>\n",
       "      <td>1.000000</td>\n",
       "      <td>4.900000</td>\n",
       "      <td>5703.000000</td>\n",
       "    </tr>\n",
       "  </tbody>\n",
       "</table>\n",
       "</div>"
      ],
      "text/plain": [
       "       average_cost_for_two  all_reviews_count  photo_count  \\\n",
       "count            600.000000         600.000000   600.000000   \n",
       "mean            2327.295000         170.311667   450.480000   \n",
       "std             7716.362878         258.212511   621.216338   \n",
       "min                0.000000           0.000000     0.000000   \n",
       "25%               20.000000           5.000000    12.750000   \n",
       "50%               40.000000          78.000000   223.000000   \n",
       "75%              100.000000         241.250000   616.750000   \n",
       "max            50000.000000        2640.000000  4464.000000   \n",
       "\n",
       "       has_table_booking  has_online_delivery  aggregate_rating        votes  \n",
       "count         600.000000           600.000000        600.000000   600.000000  \n",
       "mean            0.118333             0.120000          3.910667   367.405000  \n",
       "std             0.323272             0.325233          1.263836   594.930687  \n",
       "min             0.000000             0.000000          0.000000     0.000000  \n",
       "25%             0.000000             0.000000          3.900000    12.750000  \n",
       "50%             0.000000             0.000000          4.300000   143.500000  \n",
       "75%             0.000000             0.000000          4.500000   461.750000  \n",
       "max             1.000000             1.000000          4.900000  5703.000000  "
      ]
     },
     "execution_count": 37,
     "metadata": {},
     "output_type": "execute_result"
    }
   ],
   "source": [
    "# Print zomato_df_ind describe\n",
    "\n",
    "# YOUR CODE HERE\n",
    "\n",
    "zomato_df_ind.describe()\n",
    "#raise NotImplementedError()"
   ]
  },
  {
   "cell_type": "code",
   "execution_count": 38,
   "metadata": {},
   "outputs": [],
   "source": [
    "# Manually input the standard deviation value of the votes\n",
    "# yep, that simple. No tricks here :) \n",
    "\n",
    "votes_std = 594.930687\n",
    "\n",
    "# YOUR CODE HERE\n",
    "#raise NotImplementedError()"
   ]
  },
  {
   "cell_type": "code",
   "execution_count": 39,
   "metadata": {},
   "outputs": [
    {
     "name": "stdout",
     "output_type": "stream",
     "text": [
      "Standard deviation value of the votes is 594.930687.\n"
     ]
    }
   ],
   "source": [
    "print(\"Standard deviation value of the votes is {}.\".format(votes_std))"
   ]
  },
  {
   "cell_type": "code",
   "execution_count": 40,
   "metadata": {},
   "outputs": [],
   "source": [
    "assert 594 < votes_std < 595"
   ]
  }
 ],
 "metadata": {
  "kernelspec": {
   "display_name": "Python 3",
   "language": "python",
   "name": "python3"
  },
  "language_info": {
   "codemirror_mode": {
    "name": "ipython",
    "version": 3
   },
   "file_extension": ".py",
   "mimetype": "text/x-python",
   "name": "python",
   "nbconvert_exporter": "python",
   "pygments_lexer": "ipython3",
   "version": "3.8.3"
  }
 },
 "nbformat": 4,
 "nbformat_minor": 4
}
